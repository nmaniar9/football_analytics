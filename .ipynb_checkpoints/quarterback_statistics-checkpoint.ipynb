{
 "cells": [
  {
   "cell_type": "markdown",
   "id": "04050197-96eb-4166-83ac-e8b33a060389",
   "metadata": {},
   "source": [
    "### Exploring Quarterback Statistics and Application to fantasy football"
   ]
  },
  {
   "cell_type": "code",
   "execution_count": 1,
   "id": "2cdad7e2-801f-41dd-83be-ae98fa48dfda",
   "metadata": {},
   "outputs": [
    {
     "name": "stdout",
     "output_type": "stream",
     "text": [
      "Defaulting to user installation because normal site-packages is not writeable\n",
      "Collecting nfl-data-py\n",
      "  Downloading nfl_data_py-0.3.0.tar.gz (1.4 MB)\n",
      "\u001b[2K     \u001b[38;2;114;156;31m━━━━━━━━━━━━━━━━━━━━━━━━━━━━━━━━━━━━━━━━\u001b[0m \u001b[32m1.4/1.4 MB\u001b[0m \u001b[31m3.4 MB/s\u001b[0m eta \u001b[36m0:00:00\u001b[0mm eta \u001b[36m0:00:01\u001b[0m0:01\u001b[0m:01\u001b[0m\n",
      "\u001b[?25h  Preparing metadata (setup.py) ... \u001b[?25ldone\n",
      "\u001b[?25hRequirement already satisfied: pandas>1 in /home/neil/.local/lib/python3.10/site-packages (from nfl-data-py) (2.0.3)\n",
      "Collecting appdirs>1 (from nfl-data-py)\n",
      "  Downloading appdirs-1.4.4-py2.py3-none-any.whl (9.6 kB)\n",
      "Collecting fastparquet>0.5 (from nfl-data-py)\n",
      "  Obtaining dependency information for fastparquet>0.5 from https://files.pythonhosted.org/packages/f4/70/1756e78d37740ebb68c5705edf1339c2f674d2c9a36916f2caa107c07a8c/fastparquet-2023.8.0-cp310-cp310-manylinux_2_17_x86_64.manylinux2014_x86_64.whl.metadata\n",
      "  Downloading fastparquet-2023.8.0-cp310-cp310-manylinux_2_17_x86_64.manylinux2014_x86_64.whl.metadata (4.1 kB)\n",
      "Collecting python-snappy>0.5 (from nfl-data-py)\n",
      "  Downloading python_snappy-0.6.1-cp310-cp310-manylinux_2_12_x86_64.manylinux2010_x86_64.whl (55 kB)\n",
      "\u001b[2K     \u001b[38;2;114;156;31m━━━━━━━━━━━━━━━━━━━━━━━━━━━━━━━━━━━━━━━━\u001b[0m \u001b[32m55.9/55.9 kB\u001b[0m \u001b[31m3.9 MB/s\u001b[0m eta \u001b[36m0:00:00\u001b[0m\n",
      "\u001b[?25hRequirement already satisfied: numpy>=1.20.3 in /home/neil/.local/lib/python3.10/site-packages (from fastparquet>0.5->nfl-data-py) (1.25.2)\n",
      "Collecting cramjam>=2.3 (from fastparquet>0.5->nfl-data-py)\n",
      "  Obtaining dependency information for cramjam>=2.3 from https://files.pythonhosted.org/packages/30/79/abc388ed246721b7d56ef4410f07c8f81b1df5660f23f9b743cc6958ecdc/cramjam-2.7.0-cp310-cp310-manylinux_2_17_x86_64.manylinux2014_x86_64.whl.metadata\n",
      "  Downloading cramjam-2.7.0-cp310-cp310-manylinux_2_17_x86_64.manylinux2014_x86_64.whl.metadata (4.0 kB)\n",
      "Collecting fsspec (from fastparquet>0.5->nfl-data-py)\n",
      "  Obtaining dependency information for fsspec from https://files.pythonhosted.org/packages/3a/9f/b40e8e5be886143379000af5fc0c675352d59e82fd869d24bf784161dc77/fsspec-2023.9.0-py3-none-any.whl.metadata\n",
      "  Downloading fsspec-2023.9.0-py3-none-any.whl.metadata (6.7 kB)\n",
      "Requirement already satisfied: packaging in /usr/lib/python3/dist-packages (from fastparquet>0.5->nfl-data-py) (21.3)\n",
      "Requirement already satisfied: python-dateutil>=2.8.2 in /home/neil/.local/lib/python3.10/site-packages (from pandas>1->nfl-data-py) (2.8.2)\n",
      "Requirement already satisfied: pytz>=2020.1 in /usr/lib/python3/dist-packages (from pandas>1->nfl-data-py) (2022.1)\n",
      "Requirement already satisfied: tzdata>=2022.1 in /home/neil/.local/lib/python3.10/site-packages (from pandas>1->nfl-data-py) (2023.3)\n",
      "Requirement already satisfied: six>=1.5 in /usr/lib/python3/dist-packages (from python-dateutil>=2.8.2->pandas>1->nfl-data-py) (1.16.0)\n",
      "Downloading fastparquet-2023.8.0-cp310-cp310-manylinux_2_17_x86_64.manylinux2014_x86_64.whl (1.7 MB)\n",
      "\u001b[2K   \u001b[38;2;114;156;31m━━━━━━━━━━━━━━━━━━━━━━━━━━━━━━━━━━━━━━━━\u001b[0m \u001b[32m1.7/1.7 MB\u001b[0m \u001b[31m6.7 MB/s\u001b[0m eta \u001b[36m0:00:00\u001b[0mm eta \u001b[36m0:00:01\u001b[0m[36m0:00:01\u001b[0m\n",
      "\u001b[?25hDownloading cramjam-2.7.0-cp310-cp310-manylinux_2_17_x86_64.manylinux2014_x86_64.whl (1.6 MB)\n",
      "\u001b[2K   \u001b[38;2;114;156;31m━━━━━━━━━━━━━━━━━━━━━━━━━━━━━━━━━━━━━━━━\u001b[0m \u001b[32m1.6/1.6 MB\u001b[0m \u001b[31m7.8 MB/s\u001b[0m eta \u001b[36m0:00:00\u001b[0m[31m8.5 MB/s\u001b[0m eta \u001b[36m0:00:01\u001b[0m\n",
      "\u001b[?25hDownloading fsspec-2023.9.0-py3-none-any.whl (173 kB)\n",
      "\u001b[2K   \u001b[38;2;114;156;31m━━━━━━━━━━━━━━━━━━━━━━━━━━━━━━━━━━━━━━━━\u001b[0m \u001b[32m173.2/173.2 kB\u001b[0m \u001b[31m6.8 MB/s\u001b[0m eta \u001b[36m0:00:00\u001b[0m\n",
      "\u001b[?25hBuilding wheels for collected packages: nfl-data-py\n",
      "  Building wheel for nfl-data-py (setup.py) ... \u001b[?25ldone\n",
      "\u001b[?25h  Created wheel for nfl-data-py: filename=nfl_data_py-0.3.0-py3-none-any.whl size=25087 sha256=3f2e8d91a8e44d068cd789ce4fc99424e0a7824d842ad224515db506de689ac6\n",
      "  Stored in directory: /home/neil/.cache/pip/wheels/83/17/5a/750f2a5cec7b32c7df0a0130ae6abb97ffb44dee391c6d8d27\n",
      "Successfully built nfl-data-py\n",
      "\u001b[33mDEPRECATION: python-debian 0.1.43ubuntu1 has a non-standard version number. pip 23.3 will enforce this behaviour change. A possible replacement is to upgrade to a newer version of python-debian or contact the author to suggest that they release a version with a conforming version number. Discussion can be found at https://github.com/pypa/pip/issues/12063\u001b[0m\u001b[33m\n",
      "\u001b[0mInstalling collected packages: python-snappy, appdirs, fsspec, cramjam, fastparquet, nfl-data-py\n",
      "Successfully installed appdirs-1.4.4 cramjam-2.7.0 fastparquet-2023.8.0 fsspec-2023.9.0 nfl-data-py-0.3.0 python-snappy-0.6.1\n",
      "Note: you may need to restart the kernel to use updated packages.\n"
     ]
    }
   ],
   "source": [
    "pip install nfl-data-py"
   ]
  },
  {
   "cell_type": "code",
   "execution_count": 21,
   "id": "c86fb95e-07dc-4f26-8588-bced2d75408d",
   "metadata": {},
   "outputs": [],
   "source": [
    "import nfl_data_py as nfl\n",
    "import pandas as pd\n",
    "import numpy as np\n",
    "import seaborn as sns\n",
    "import matplotlib.pyplot as plt"
   ]
  },
  {
   "cell_type": "code",
   "execution_count": 6,
   "id": "ed55d198-393f-4a10-9898-b107e9658c37",
   "metadata": {},
   "outputs": [
    {
     "name": "stdout",
     "output_type": "stream",
     "text": [
      "2016 done.\n",
      "2017 done.\n",
      "2018 done.\n",
      "2019 done.\n",
      "2020 done.\n",
      "2021 done.\n",
      "2022 done.\n",
      "Downcasting floats.\n"
     ]
    }
   ],
   "source": [
    "seasons = range(2016,2022+1)\n",
    "pbp_py = nfl.import_pbp_data(seasons)"
   ]
  },
  {
   "cell_type": "code",
   "execution_count": 8,
   "id": "3ddc501c-bebc-4546-957e-3ec77a6cce1d",
   "metadata": {},
   "outputs": [],
   "source": [
    "pbp_py_p = pbp_py.query(\"play_type == 'pass' & air_yards.notnull()\").reset_index()"
   ]
  },
  {
   "cell_type": "code",
   "execution_count": 10,
   "id": "73bcaa1a-0395-4b38-abc7-56c07b766c34",
   "metadata": {},
   "outputs": [
    {
     "data": {
      "text/html": [
       "<div>\n",
       "<style scoped>\n",
       "    .dataframe tbody tr th:only-of-type {\n",
       "        vertical-align: middle;\n",
       "    }\n",
       "\n",
       "    .dataframe tbody tr th {\n",
       "        vertical-align: top;\n",
       "    }\n",
       "\n",
       "    .dataframe thead th {\n",
       "        text-align: right;\n",
       "    }\n",
       "</style>\n",
       "<table border=\"1\" class=\"dataframe\">\n",
       "  <thead>\n",
       "    <tr style=\"text-align: right;\">\n",
       "      <th></th>\n",
       "      <th>index</th>\n",
       "      <th>play_id</th>\n",
       "      <th>game_id</th>\n",
       "      <th>old_game_id</th>\n",
       "      <th>home_team</th>\n",
       "      <th>away_team</th>\n",
       "      <th>season_type</th>\n",
       "      <th>week</th>\n",
       "      <th>posteam</th>\n",
       "      <th>posteam_type</th>\n",
       "      <th>...</th>\n",
       "      <th>offense_formation</th>\n",
       "      <th>offense_personnel</th>\n",
       "      <th>defenders_in_box</th>\n",
       "      <th>defense_personnel</th>\n",
       "      <th>number_of_pass_rushers</th>\n",
       "      <th>players_on_play</th>\n",
       "      <th>offense_players</th>\n",
       "      <th>defense_players</th>\n",
       "      <th>n_offense</th>\n",
       "      <th>n_defense</th>\n",
       "    </tr>\n",
       "  </thead>\n",
       "  <tbody>\n",
       "    <tr>\n",
       "      <th>0</th>\n",
       "      <td>3</td>\n",
       "      <td>85.0</td>\n",
       "      <td>2016_01_BUF_BAL</td>\n",
       "      <td>2016091101</td>\n",
       "      <td>BAL</td>\n",
       "      <td>BUF</td>\n",
       "      <td>REG</td>\n",
       "      <td>1</td>\n",
       "      <td>BAL</td>\n",
       "      <td>home</td>\n",
       "      <td>...</td>\n",
       "      <td>SHOTGUN</td>\n",
       "      <td>2 RB, 1 TE, 2 WR</td>\n",
       "      <td>6.0</td>\n",
       "      <td>4 DL, 3 LB, 4 DB</td>\n",
       "      <td>3.0</td>\n",
       "      <td>41302;40078;38540;35553;43295;38582;40053;4336...</td>\n",
       "      <td>00-0029892;00-0027714;00-0032965;00-0029893;00...</td>\n",
       "      <td>00-0031171;00-0029542;00-0029566;00-0030073;00...</td>\n",
       "      <td>11.0</td>\n",
       "      <td>11.0</td>\n",
       "    </tr>\n",
       "    <tr>\n",
       "      <th>1</th>\n",
       "      <td>5</td>\n",
       "      <td>130.0</td>\n",
       "      <td>2016_01_BUF_BAL</td>\n",
       "      <td>2016091101</td>\n",
       "      <td>BAL</td>\n",
       "      <td>BUF</td>\n",
       "      <td>REG</td>\n",
       "      <td>1</td>\n",
       "      <td>BAL</td>\n",
       "      <td>home</td>\n",
       "      <td>...</td>\n",
       "      <td>I_FORM</td>\n",
       "      <td>2 RB, 1 TE, 2 WR</td>\n",
       "      <td>7.0</td>\n",
       "      <td>4 DL, 3 LB, 4 DB</td>\n",
       "      <td>5.0</td>\n",
       "      <td>40078;38540;41302;35553;38582;43295;40053;4336...</td>\n",
       "      <td>00-0029892;00-0027714;00-0032965;00-0029893;00...</td>\n",
       "      <td>00-0029542;00-0031171;00-0029566;00-0030073;00...</td>\n",
       "      <td>11.0</td>\n",
       "      <td>11.0</td>\n",
       "    </tr>\n",
       "    <tr>\n",
       "      <th>2</th>\n",
       "      <td>9</td>\n",
       "      <td>216.0</td>\n",
       "      <td>2016_01_BUF_BAL</td>\n",
       "      <td>2016091101</td>\n",
       "      <td>BAL</td>\n",
       "      <td>BUF</td>\n",
       "      <td>REG</td>\n",
       "      <td>1</td>\n",
       "      <td>BUF</td>\n",
       "      <td>away</td>\n",
       "      <td>...</td>\n",
       "      <td>SHOTGUN</td>\n",
       "      <td>1 RB, 2 TE, 2 WR</td>\n",
       "      <td>7.0</td>\n",
       "      <td>3 DL, 4 LB, 4 DB</td>\n",
       "      <td>4.0</td>\n",
       "      <td>34479;40111;41277;37249;41230;36089;37100;3567...</td>\n",
       "      <td>00-0027004;00-0030046;00-0028112;00-0031325;00...</td>\n",
       "      <td>00-0031170;00-0027560;00-0027965;00-0031296;00...</td>\n",
       "      <td>11.0</td>\n",
       "      <td>10.0</td>\n",
       "    </tr>\n",
       "    <tr>\n",
       "      <th>3</th>\n",
       "      <td>11</td>\n",
       "      <td>261.0</td>\n",
       "      <td>2016_01_BUF_BAL</td>\n",
       "      <td>2016091101</td>\n",
       "      <td>BAL</td>\n",
       "      <td>BUF</td>\n",
       "      <td>REG</td>\n",
       "      <td>1</td>\n",
       "      <td>BUF</td>\n",
       "      <td>away</td>\n",
       "      <td>...</td>\n",
       "      <td>SHOTGUN</td>\n",
       "      <td>1 RB, 1 TE, 3 WR</td>\n",
       "      <td>6.0</td>\n",
       "      <td>1 DL, 5 LB, 5 DB</td>\n",
       "      <td>3.0</td>\n",
       "      <td>34479;40111;41277;37249;41230;36089;40112;3710...</td>\n",
       "      <td>00-0027004;00-0030046;00-0028112;00-0031325;00...</td>\n",
       "      <td>00-0031170;00-0027560;00-0027965;00-0031296;00...</td>\n",
       "      <td>10.0</td>\n",
       "      <td>10.0</td>\n",
       "    </tr>\n",
       "    <tr>\n",
       "      <th>4</th>\n",
       "      <td>13</td>\n",
       "      <td>310.0</td>\n",
       "      <td>2016_01_BUF_BAL</td>\n",
       "      <td>2016091101</td>\n",
       "      <td>BAL</td>\n",
       "      <td>BUF</td>\n",
       "      <td>REG</td>\n",
       "      <td>1</td>\n",
       "      <td>BAL</td>\n",
       "      <td>home</td>\n",
       "      <td>...</td>\n",
       "      <td>SHOTGUN</td>\n",
       "      <td>1 RB, 2 TE, 2 WR</td>\n",
       "      <td>7.0</td>\n",
       "      <td>4 DL, 3 LB, 4 DB</td>\n",
       "      <td>4.0</td>\n",
       "      <td>38540;41302;35553;38582;43295;40053;43369;4011...</td>\n",
       "      <td>00-0027714;00-0032965;00-0029893;00-0026223;00...</td>\n",
       "      <td>00-0029542;00-0031171;00-0029566;00-0030073;00...</td>\n",
       "      <td>11.0</td>\n",
       "      <td>11.0</td>\n",
       "    </tr>\n",
       "    <tr>\n",
       "      <th>...</th>\n",
       "      <td>...</td>\n",
       "      <td>...</td>\n",
       "      <td>...</td>\n",
       "      <td>...</td>\n",
       "      <td>...</td>\n",
       "      <td>...</td>\n",
       "      <td>...</td>\n",
       "      <td>...</td>\n",
       "      <td>...</td>\n",
       "      <td>...</td>\n",
       "      <td>...</td>\n",
       "      <td>...</td>\n",
       "      <td>...</td>\n",
       "      <td>...</td>\n",
       "      <td>...</td>\n",
       "      <td>...</td>\n",
       "      <td>...</td>\n",
       "      <td>...</td>\n",
       "      <td>...</td>\n",
       "      <td>...</td>\n",
       "      <td>...</td>\n",
       "    </tr>\n",
       "    <tr>\n",
       "      <th>131601</th>\n",
       "      <td>341672</td>\n",
       "      <td>3635.0</td>\n",
       "      <td>2022_22_KC_PHI</td>\n",
       "      <td>2023021200</td>\n",
       "      <td>PHI</td>\n",
       "      <td>KC</td>\n",
       "      <td>POST</td>\n",
       "      <td>22</td>\n",
       "      <td>PHI</td>\n",
       "      <td>home</td>\n",
       "      <td>...</td>\n",
       "      <td>SHOTGUN</td>\n",
       "      <td>1 RB, 1 TE, 3 WR</td>\n",
       "      <td>6.0</td>\n",
       "      <td>3 DL, 3 LB, 5 DB</td>\n",
       "      <td>4.0</td>\n",
       "      <td>46144;52546;35493;46118;47846;54600;43368;4004...</td>\n",
       "      <td>00-0034351;00-0032954;00-0036919;00-0036389;00...</td>\n",
       "      <td>00-0034818;00-0036374;00-0027662;00-0035625;00...</td>\n",
       "      <td>11.0</td>\n",
       "      <td>11.0</td>\n",
       "    </tr>\n",
       "    <tr>\n",
       "      <th>131602</th>\n",
       "      <td>341677</td>\n",
       "      <td>3736.0</td>\n",
       "      <td>2022_22_KC_PHI</td>\n",
       "      <td>2023021200</td>\n",
       "      <td>PHI</td>\n",
       "      <td>KC</td>\n",
       "      <td>POST</td>\n",
       "      <td>22</td>\n",
       "      <td>KC</td>\n",
       "      <td>away</td>\n",
       "      <td>...</td>\n",
       "      <td>SHOTGUN</td>\n",
       "      <td>1 RB, 1 TE, 3 WR</td>\n",
       "      <td>6.0</td>\n",
       "      <td>3 DL, 3 LB, 5 DB</td>\n",
       "      <td>4.0</td>\n",
       "      <td>46243;48516;46213;47974;43367;46152;44874;4001...</td>\n",
       "      <td>00-0034272;00-0034386;00-0032391;00-0034752;00...</td>\n",
       "      <td>00-0035386;00-0034993;00-0034375;00-0029653;00...</td>\n",
       "      <td>11.0</td>\n",
       "      <td>11.0</td>\n",
       "    </tr>\n",
       "    <tr>\n",
       "      <th>131603</th>\n",
       "      <td>341679</td>\n",
       "      <td>3789.0</td>\n",
       "      <td>2022_22_KC_PHI</td>\n",
       "      <td>2023021200</td>\n",
       "      <td>PHI</td>\n",
       "      <td>KC</td>\n",
       "      <td>POST</td>\n",
       "      <td>22</td>\n",
       "      <td>KC</td>\n",
       "      <td>away</td>\n",
       "      <td>...</td>\n",
       "      <td>SHOTGUN</td>\n",
       "      <td>1 RB, 2 TE, 2 WR</td>\n",
       "      <td>5.0</td>\n",
       "      <td>3 DL, 3 LB, 5 DB</td>\n",
       "      <td>4.0</td>\n",
       "      <td>46243;48516;47974;43367;46152;44874;40011;4868...</td>\n",
       "      <td>00-0034272;00-0032391;00-0034752;00-0033857;00...</td>\n",
       "      <td>00-0035386;00-0034993;00-0034375;00-0029653;00...</td>\n",
       "      <td>11.0</td>\n",
       "      <td>11.0</td>\n",
       "    </tr>\n",
       "    <tr>\n",
       "      <th>131604</th>\n",
       "      <td>341684</td>\n",
       "      <td>3876.0</td>\n",
       "      <td>2022_22_KC_PHI</td>\n",
       "      <td>2023021200</td>\n",
       "      <td>PHI</td>\n",
       "      <td>KC</td>\n",
       "      <td>POST</td>\n",
       "      <td>22</td>\n",
       "      <td>KC</td>\n",
       "      <td>away</td>\n",
       "      <td>...</td>\n",
       "      <td>SHOTGUN</td>\n",
       "      <td>1 RB, 1 TE, 3 WR</td>\n",
       "      <td>6.0</td>\n",
       "      <td>4 DL, 2 LB, 5 DB</td>\n",
       "      <td>5.0</td>\n",
       "      <td>46243;48516;46213;47974;43367;46152;44874;4001...</td>\n",
       "      <td>00-0034272;00-0034386;00-0032391;00-0034752;00...</td>\n",
       "      <td>00-0035386;00-0034993;00-0034375;00-0029653;00...</td>\n",
       "      <td>11.0</td>\n",
       "      <td>11.0</td>\n",
       "    </tr>\n",
       "    <tr>\n",
       "      <th>131605</th>\n",
       "      <td>341695</td>\n",
       "      <td>4072.0</td>\n",
       "      <td>2022_22_KC_PHI</td>\n",
       "      <td>2023021200</td>\n",
       "      <td>PHI</td>\n",
       "      <td>KC</td>\n",
       "      <td>POST</td>\n",
       "      <td>22</td>\n",
       "      <td>PHI</td>\n",
       "      <td>home</td>\n",
       "      <td>...</td>\n",
       "      <td>SHOTGUN</td>\n",
       "      <td>1 RB, 1 TE, 3 WR</td>\n",
       "      <td>3.0</td>\n",
       "      <td>0 DL, 4 LB, 7 DB</td>\n",
       "      <td>2.0</td>\n",
       "      <td>52608;52546;48259;46118;47846;43368;54568;5460...</td>\n",
       "      <td>00-0036271;00-0034351;00-0032954;00-0036919;00...</td>\n",
       "      <td>00-0036374;00-0035157;00-0035625;00-0037819;00...</td>\n",
       "      <td>11.0</td>\n",
       "      <td>11.0</td>\n",
       "    </tr>\n",
       "  </tbody>\n",
       "</table>\n",
       "<p>131606 rows × 385 columns</p>\n",
       "</div>"
      ],
      "text/plain": [
       "         index  play_id          game_id old_game_id home_team away_team  \\\n",
       "0            3     85.0  2016_01_BUF_BAL  2016091101       BAL       BUF   \n",
       "1            5    130.0  2016_01_BUF_BAL  2016091101       BAL       BUF   \n",
       "2            9    216.0  2016_01_BUF_BAL  2016091101       BAL       BUF   \n",
       "3           11    261.0  2016_01_BUF_BAL  2016091101       BAL       BUF   \n",
       "4           13    310.0  2016_01_BUF_BAL  2016091101       BAL       BUF   \n",
       "...        ...      ...              ...         ...       ...       ...   \n",
       "131601  341672   3635.0   2022_22_KC_PHI  2023021200       PHI        KC   \n",
       "131602  341677   3736.0   2022_22_KC_PHI  2023021200       PHI        KC   \n",
       "131603  341679   3789.0   2022_22_KC_PHI  2023021200       PHI        KC   \n",
       "131604  341684   3876.0   2022_22_KC_PHI  2023021200       PHI        KC   \n",
       "131605  341695   4072.0   2022_22_KC_PHI  2023021200       PHI        KC   \n",
       "\n",
       "       season_type  week posteam posteam_type  ... offense_formation  \\\n",
       "0              REG     1     BAL         home  ...           SHOTGUN   \n",
       "1              REG     1     BAL         home  ...            I_FORM   \n",
       "2              REG     1     BUF         away  ...           SHOTGUN   \n",
       "3              REG     1     BUF         away  ...           SHOTGUN   \n",
       "4              REG     1     BAL         home  ...           SHOTGUN   \n",
       "...            ...   ...     ...          ...  ...               ...   \n",
       "131601        POST    22     PHI         home  ...           SHOTGUN   \n",
       "131602        POST    22      KC         away  ...           SHOTGUN   \n",
       "131603        POST    22      KC         away  ...           SHOTGUN   \n",
       "131604        POST    22      KC         away  ...           SHOTGUN   \n",
       "131605        POST    22     PHI         home  ...           SHOTGUN   \n",
       "\n",
       "       offense_personnel  defenders_in_box defense_personnel  \\\n",
       "0       2 RB, 1 TE, 2 WR               6.0  4 DL, 3 LB, 4 DB   \n",
       "1       2 RB, 1 TE, 2 WR               7.0  4 DL, 3 LB, 4 DB   \n",
       "2       1 RB, 2 TE, 2 WR               7.0  3 DL, 4 LB, 4 DB   \n",
       "3       1 RB, 1 TE, 3 WR               6.0  1 DL, 5 LB, 5 DB   \n",
       "4       1 RB, 2 TE, 2 WR               7.0  4 DL, 3 LB, 4 DB   \n",
       "...                  ...               ...               ...   \n",
       "131601  1 RB, 1 TE, 3 WR               6.0  3 DL, 3 LB, 5 DB   \n",
       "131602  1 RB, 1 TE, 3 WR               6.0  3 DL, 3 LB, 5 DB   \n",
       "131603  1 RB, 2 TE, 2 WR               5.0  3 DL, 3 LB, 5 DB   \n",
       "131604  1 RB, 1 TE, 3 WR               6.0  4 DL, 2 LB, 5 DB   \n",
       "131605  1 RB, 1 TE, 3 WR               3.0  0 DL, 4 LB, 7 DB   \n",
       "\n",
       "        number_of_pass_rushers  \\\n",
       "0                          3.0   \n",
       "1                          5.0   \n",
       "2                          4.0   \n",
       "3                          3.0   \n",
       "4                          4.0   \n",
       "...                        ...   \n",
       "131601                     4.0   \n",
       "131602                     4.0   \n",
       "131603                     4.0   \n",
       "131604                     5.0   \n",
       "131605                     2.0   \n",
       "\n",
       "                                          players_on_play  \\\n",
       "0       41302;40078;38540;35553;43295;38582;40053;4336...   \n",
       "1       40078;38540;41302;35553;38582;43295;40053;4336...   \n",
       "2       34479;40111;41277;37249;41230;36089;37100;3567...   \n",
       "3       34479;40111;41277;37249;41230;36089;40112;3710...   \n",
       "4       38540;41302;35553;38582;43295;40053;43369;4011...   \n",
       "...                                                   ...   \n",
       "131601  46144;52546;35493;46118;47846;54600;43368;4004...   \n",
       "131602  46243;48516;46213;47974;43367;46152;44874;4001...   \n",
       "131603  46243;48516;47974;43367;46152;44874;40011;4868...   \n",
       "131604  46243;48516;46213;47974;43367;46152;44874;4001...   \n",
       "131605  52608;52546;48259;46118;47846;43368;54568;5460...   \n",
       "\n",
       "                                          offense_players  \\\n",
       "0       00-0029892;00-0027714;00-0032965;00-0029893;00...   \n",
       "1       00-0029892;00-0027714;00-0032965;00-0029893;00...   \n",
       "2       00-0027004;00-0030046;00-0028112;00-0031325;00...   \n",
       "3       00-0027004;00-0030046;00-0028112;00-0031325;00...   \n",
       "4       00-0027714;00-0032965;00-0029893;00-0026223;00...   \n",
       "...                                                   ...   \n",
       "131601  00-0034351;00-0032954;00-0036919;00-0036389;00...   \n",
       "131602  00-0034272;00-0034386;00-0032391;00-0034752;00...   \n",
       "131603  00-0034272;00-0032391;00-0034752;00-0033857;00...   \n",
       "131604  00-0034272;00-0034386;00-0032391;00-0034752;00...   \n",
       "131605  00-0036271;00-0034351;00-0032954;00-0036919;00...   \n",
       "\n",
       "                                          defense_players  n_offense  \\\n",
       "0       00-0031171;00-0029542;00-0029566;00-0030073;00...       11.0   \n",
       "1       00-0029542;00-0031171;00-0029566;00-0030073;00...       11.0   \n",
       "2       00-0031170;00-0027560;00-0027965;00-0031296;00...       11.0   \n",
       "3       00-0031170;00-0027560;00-0027965;00-0031296;00...       10.0   \n",
       "4       00-0029542;00-0031171;00-0029566;00-0030073;00...       11.0   \n",
       "...                                                   ...        ...   \n",
       "131601  00-0034818;00-0036374;00-0027662;00-0035625;00...       11.0   \n",
       "131602  00-0035386;00-0034993;00-0034375;00-0029653;00...       11.0   \n",
       "131603  00-0035386;00-0034993;00-0034375;00-0029653;00...       11.0   \n",
       "131604  00-0035386;00-0034993;00-0034375;00-0029653;00...       11.0   \n",
       "131605  00-0036374;00-0035157;00-0035625;00-0037819;00...       11.0   \n",
       "\n",
       "        n_defense  \n",
       "0            11.0  \n",
       "1            11.0  \n",
       "2            10.0  \n",
       "3            10.0  \n",
       "4            11.0  \n",
       "...           ...  \n",
       "131601       11.0  \n",
       "131602       11.0  \n",
       "131603       11.0  \n",
       "131604       11.0  \n",
       "131605       11.0  \n",
       "\n",
       "[131606 rows x 385 columns]"
      ]
     },
     "execution_count": 10,
     "metadata": {},
     "output_type": "execute_result"
    }
   ],
   "source": [
    "pbp_py_p"
   ]
  },
  {
   "cell_type": "code",
   "execution_count": 11,
   "id": "d1d36fee-debf-42a4-8a2d-39c0ab23e343",
   "metadata": {},
   "outputs": [],
   "source": [
    "pbp_py_p['pass_length_air_yards'] = np.where(pbp_py_p['air_yards']>= 20,\"long\",\"short\")"
   ]
  },
  {
   "cell_type": "code",
   "execution_count": 13,
   "id": "e70110e3-a35d-47f2-ba51-49dad4f40781",
   "metadata": {},
   "outputs": [],
   "source": [
    "pbp_py_p['passing_yards'] = np.where(pbp_py_p['passing_yards'].isnull(),0,pbp_py_p['passing_yards'])"
   ]
  },
  {
   "cell_type": "code",
   "execution_count": 14,
   "id": "8e833f66-ab65-481f-a1a4-d23b901ac962",
   "metadata": {},
   "outputs": [
    {
     "data": {
      "text/plain": [
       "count    131606.000000\n",
       "mean          7.192111\n",
       "std           9.667021\n",
       "min         -20.000000\n",
       "25%           0.000000\n",
       "50%           5.000000\n",
       "75%          11.000000\n",
       "max          98.000000\n",
       "Name: passing_yards, dtype: float64"
      ]
     },
     "execution_count": 14,
     "metadata": {},
     "output_type": "execute_result"
    }
   ],
   "source": [
    "pbp_py_p['passing_yards'].describe()"
   ]
  },
  {
   "cell_type": "code",
   "execution_count": 17,
   "id": "ae63c563-0b1e-472a-bcd3-36811f6a120f",
   "metadata": {},
   "outputs": [
    {
     "data": {
      "text/plain": [
       "count    116087.000000\n",
       "mean          6.526812\n",
       "std           7.697057\n",
       "min         -20.000000\n",
       "25%           0.000000\n",
       "50%           5.000000\n",
       "75%          10.000000\n",
       "max          95.000000\n",
       "Name: passing_yards, dtype: float64"
      ]
     },
     "execution_count": 17,
     "metadata": {},
     "output_type": "execute_result"
    }
   ],
   "source": [
    "pbp_py_p.query('pass_length_air_yards == \"short\"')['passing_yards'].describe()"
   ]
  },
  {
   "cell_type": "code",
   "execution_count": 18,
   "id": "d26b7656-7b83-40b9-885c-00938a4385a2",
   "metadata": {},
   "outputs": [
    {
     "data": {
      "text/plain": [
       "count    15519.000000\n",
       "mean        12.168761\n",
       "std         17.923951\n",
       "min          0.000000\n",
       "25%          0.000000\n",
       "50%          0.000000\n",
       "75%         26.000000\n",
       "max         98.000000\n",
       "Name: passing_yards, dtype: float64"
      ]
     },
     "execution_count": 18,
     "metadata": {},
     "output_type": "execute_result"
    }
   ],
   "source": [
    "pbp_py_p.query('pass_length_air_yards == \"long\"')['passing_yards'].describe()"
   ]
  },
  {
   "cell_type": "code",
   "execution_count": 19,
   "id": "2d5b3924-f76c-4fc9-9b87-33ff6449ebbd",
   "metadata": {},
   "outputs": [
    {
     "data": {
      "text/plain": [
       "count    116086.000000\n",
       "mean          0.119606\n",
       "std           1.426238\n",
       "min         -13.031219\n",
       "25%          -0.606135\n",
       "50%          -0.002100\n",
       "75%           0.959107\n",
       "max           8.241420\n",
       "Name: epa, dtype: float64"
      ]
     },
     "execution_count": 19,
     "metadata": {},
     "output_type": "execute_result"
    }
   ],
   "source": [
    "#expected points added\n",
    "pbp_py_p.query('pass_length_air_yards == \"short\"')['epa'].describe()"
   ]
  },
  {
   "cell_type": "code",
   "execution_count": 20,
   "id": "7eb311c3-ab27-4945-97c0-f4b88a03618f",
   "metadata": {},
   "outputs": [
    {
     "data": {
      "text/plain": [
       "count    15519.000000\n",
       "mean         0.382649\n",
       "std          2.185551\n",
       "min        -10.477921\n",
       "25%         -0.827421\n",
       "50%         -0.465344\n",
       "75%          2.136431\n",
       "max          8.789743\n",
       "Name: epa, dtype: float64"
      ]
     },
     "execution_count": 20,
     "metadata": {},
     "output_type": "execute_result"
    }
   ],
   "source": [
    "pbp_py_p.query('pass_length_air_yards == \"long\"')['epa'].describe()"
   ]
  },
  {
   "cell_type": "code",
   "execution_count": 23,
   "id": "6440f7bb-c3c3-4314-be0d-fd5242e813dc",
   "metadata": {},
   "outputs": [
    {
     "data": {
      "image/png": "[encoded data removed]",
      "text/plain": [
       "<Figure size 640x480 with 1 Axes>"
      ]
     },
     "metadata": {},
     "output_type": "display_data"
    }
   ],
   "source": [
    "sns.histplot(data=pbp_py,x='passing_yards')\n",
    "plt.show()"
   ]
  },
  {
   "cell_type": "code",
   "execution_count": 24,
   "id": "efe717ea-91a2-401c-bbfb-660651ffe17f",
   "metadata": {},
   "outputs": [],
   "source": [
    "sns.set_theme(style='whitegrid',palette='colorblind')"
   ]
  },
  {
   "cell_type": "code",
   "execution_count": 25,
   "id": "ad5aee71-31c0-49df-b737-66a8bc035a52",
   "metadata": {},
   "outputs": [
    {
     "name": "stderr",
     "output_type": "stream",
     "text": [
      "/home/neil/.local/lib/python3.10/site-packages/seaborn/axisgrid.py:118: UserWarning: The figure layout has changed to tight\n",
      "  self._figure.tight_layout(*args, **kwargs)\n"
     ]
    },
    {
     "data": {
      "image/png": "[encoded data removed]",
      "text/plain": [
       "<Figure size 500x500 with 1 Axes>"
      ]
     },
     "metadata": {},
     "output_type": "display_data"
    }
   ],
   "source": [
    "pbp_py_p_short = pbp_py_p.query('pass_length_air_yards == \"short\"')\n",
    "#plot\n",
    "pbp_py_hist_short = sns.displot(data=pbp_py_p_short, binwidth=1,x='passing_yards')\n",
    "pbp_py_hist_short.set_axis_labels(\"Yards gained (or lost) during a passing play\",\"Count\")\n",
    "plt.show()\n"
   ]
  },
  {
   "cell_type": "code",
   "execution_count": 27,
   "id": "4dc719db-71e1-49b3-8ec8-152253703ec0",
   "metadata": {},
   "outputs": [
    {
     "data": {
      "image/png": "[encoded data removed]",
      "text/plain": [
       "<Figure size 640x480 with 1 Axes>"
      ]
     },
     "metadata": {},
     "output_type": "display_data"
    }
   ],
   "source": [
    "pass_boxplot = sns.boxplot(data=pbp_py_p,x='pass_length_air_yards',y='passing_yards')\n",
    "pass_boxplot.set(xlabel='Pass Length (long >= 20 yards, short < 20 yards)', ylabel = 'Yards gained (or lost) during a passing play',)\n",
    "plt.show()                           "
   ]
  },
  {
   "cell_type": "code",
   "execution_count": 28,
   "id": "58533ef5-6177-429d-818e-1c61eb95bacd",
   "metadata": {},
   "outputs": [],
   "source": [
    "pbp_py_p_s = pbp_py_p.groupby(['passer_id','passer','season']).agg({'passing_yards':['mean','count']})"
   ]
  },
  {
   "cell_type": "code",
   "execution_count": 29,
   "id": "3fc56eb9-6d5c-477a-825e-331812788ddc",
   "metadata": {},
   "outputs": [],
   "source": [
    "pbp_py_p_s.columns = list(map('_'.join,pbp_py_p_s.columns.values))"
   ]
  },
  {
   "cell_type": "code",
   "execution_count": 31,
   "id": "be27f767-1d52-4717-8d67-abeaea3256e5",
   "metadata": {},
   "outputs": [],
   "source": [
    "pbp_py_p_s.rename(columns={'passing_yards_mean':'ypa','passing_yards_count':'n'}, inplace=True)"
   ]
  },
  {
   "cell_type": "code",
   "execution_count": 32,
   "id": "97a25a27-6b02-4bba-92b3-aca2b8cbe085",
   "metadata": {},
   "outputs": [
    {
     "data": {
      "text/html": [
       "<div>\n",
       "<style scoped>\n",
       "    .dataframe tbody tr th:only-of-type {\n",
       "        vertical-align: middle;\n",
       "    }\n",
       "\n",
       "    .dataframe tbody tr th {\n",
       "        vertical-align: top;\n",
       "    }\n",
       "\n",
       "    .dataframe thead th {\n",
       "        text-align: right;\n",
       "    }\n",
       "</style>\n",
       "<table border=\"1\" class=\"dataframe\">\n",
       "  <thead>\n",
       "    <tr style=\"text-align: right;\">\n",
       "      <th></th>\n",
       "      <th></th>\n",
       "      <th></th>\n",
       "      <th>ypa</th>\n",
       "      <th>n</th>\n",
       "    </tr>\n",
       "    <tr>\n",
       "      <th>passer_id</th>\n",
       "      <th>passer</th>\n",
       "      <th>season</th>\n",
       "      <th></th>\n",
       "      <th></th>\n",
       "    </tr>\n",
       "  </thead>\n",
       "  <tbody>\n",
       "    <tr>\n",
       "      <th>00-0035544</th>\n",
       "      <th>T.Kennedy</th>\n",
       "      <th>2021</th>\n",
       "      <td>75.0</td>\n",
       "      <td>1</td>\n",
       "    </tr>\n",
       "    <tr>\n",
       "      <th>00-0033132</th>\n",
       "      <th>K.Byard</th>\n",
       "      <th>2018</th>\n",
       "      <td>66.0</td>\n",
       "      <td>1</td>\n",
       "    </tr>\n",
       "    <tr>\n",
       "      <th>00-0031235</th>\n",
       "      <th>O.Beckham</th>\n",
       "      <th>2018</th>\n",
       "      <td>53.0</td>\n",
       "      <td>2</td>\n",
       "    </tr>\n",
       "    <tr>\n",
       "      <th>00-0030669</th>\n",
       "      <th>A.Wilson</th>\n",
       "      <th>2018</th>\n",
       "      <td>52.0</td>\n",
       "      <td>1</td>\n",
       "    </tr>\n",
       "    <tr>\n",
       "      <th>00-0029632</th>\n",
       "      <th>M.Sanu</th>\n",
       "      <th>2017</th>\n",
       "      <td>51.0</td>\n",
       "      <td>1</td>\n",
       "    </tr>\n",
       "  </tbody>\n",
       "</table>\n",
       "</div>"
      ],
      "text/plain": [
       "                              ypa  n\n",
       "passer_id  passer    season         \n",
       "00-0035544 T.Kennedy 2021    75.0  1\n",
       "00-0033132 K.Byard   2018    66.0  1\n",
       "00-0031235 O.Beckham 2018    53.0  2\n",
       "00-0030669 A.Wilson  2018    52.0  1\n",
       "00-0029632 M.Sanu    2017    51.0  1"
      ]
     },
     "execution_count": 32,
     "metadata": {},
     "output_type": "execute_result"
    }
   ],
   "source": [
    "pbp_py_p_s_.sort_values(by=['ypa'],ascending=False).head()"
   ]
  },
  {
   "cell_type": "code",
   "execution_count": 33,
   "id": "badefba9-8ed3-42ec-bf42-8f4b5b860f07",
   "metadata": {},
   "outputs": [
    {
     "data": {
      "text/html": [
       "<div>\n",
       "<style scoped>\n",
       "    .dataframe tbody tr th:only-of-type {\n",
       "        vertical-align: middle;\n",
       "    }\n",
       "\n",
       "    .dataframe tbody tr th {\n",
       "        vertical-align: top;\n",
       "    }\n",
       "\n",
       "    .dataframe thead th {\n",
       "        text-align: right;\n",
       "    }\n",
       "</style>\n",
       "<table border=\"1\" class=\"dataframe\">\n",
       "  <thead>\n",
       "    <tr style=\"text-align: right;\">\n",
       "      <th></th>\n",
       "      <th></th>\n",
       "      <th></th>\n",
       "      <th>ypa</th>\n",
       "      <th>n</th>\n",
       "    </tr>\n",
       "    <tr>\n",
       "      <th>passer_id</th>\n",
       "      <th>passer</th>\n",
       "      <th>season</th>\n",
       "      <th></th>\n",
       "      <th></th>\n",
       "    </tr>\n",
       "  </thead>\n",
       "  <tbody>\n",
       "    <tr>\n",
       "      <th>00-0023682</th>\n",
       "      <th>R.Fitzpatrick</th>\n",
       "      <th>2018</th>\n",
       "      <td>9.617886</td>\n",
       "      <td>246</td>\n",
       "    </tr>\n",
       "    <tr>\n",
       "      <th>00-0026143</th>\n",
       "      <th>M.Ryan</th>\n",
       "      <th>2016</th>\n",
       "      <td>9.442155</td>\n",
       "      <td>631</td>\n",
       "    </tr>\n",
       "    <tr>\n",
       "      <th>00-0029701</th>\n",
       "      <th>R.Tannehill</th>\n",
       "      <th>2019</th>\n",
       "      <td>9.069971</td>\n",
       "      <td>343</td>\n",
       "    </tr>\n",
       "    <tr>\n",
       "      <th>00-0033537</th>\n",
       "      <th>D.Watson</th>\n",
       "      <th>2020</th>\n",
       "      <td>8.898524</td>\n",
       "      <td>542</td>\n",
       "    </tr>\n",
       "    <tr>\n",
       "      <th>00-0036212</th>\n",
       "      <th>T.Tagovailoa</th>\n",
       "      <th>2022</th>\n",
       "      <td>8.892231</td>\n",
       "      <td>399</td>\n",
       "    </tr>\n",
       "  </tbody>\n",
       "</table>\n",
       "</div>"
      ],
      "text/plain": [
       "                                      ypa    n\n",
       "passer_id  passer        season               \n",
       "00-0023682 R.Fitzpatrick 2018    9.617886  246\n",
       "00-0026143 M.Ryan        2016    9.442155  631\n",
       "00-0029701 R.Tannehill   2019    9.069971  343\n",
       "00-0033537 D.Watson      2020    8.898524  542\n",
       "00-0036212 T.Tagovailoa  2022    8.892231  399"
      ]
     },
     "execution_count": 33,
     "metadata": {},
     "output_type": "execute_result"
    }
   ],
   "source": [
    "pbp_py_p_s_100 = pbp_py_p_s.query('n >= 100').sort_values(by=['ypa'],ascending=False)\n",
    "pbp_py_p_s_100.head()"
   ]
  },
  {
   "cell_type": "code",
   "execution_count": 43,
   "id": "c553b52f-03ad-4de9-96c2-63b5691ffb23",
   "metadata": {},
   "outputs": [],
   "source": [
    "#Calculate the YPA for each passer for each season\n",
    "#Calculate teh YPA for each passer for the previous season\n",
    "#Look at the correlation from the values calculated in steps 1 and 2 to see stability\n",
    "\n",
    "pbp_py_p_s_pl = pbp_py_p.groupby(['passer_id','passer','season','pass_length_air_yards']).agg({\"passing_yards\":[\"mean\",\"count\"]})\n",
    "pbp_py_p_s_pl.columns = list(map('_'.join,pbp_py_p_s_pl.columns.values))\n",
    "pbp_py_p_s_pl.rename(columns={'passing_yards_mean':'ypa','passing_yards_count':'n'},inplace=True)\n",
    "pbp_py_p_s_pl.reset_index(inplace=True)\n",
    "q_value = ('(n >= 100 & ' +'pass_length_air_yards == \"short\") | ' +'(n >= 30 & ' +'pass_length_air_yards == \"long\")')\n",
    "pbp_py_p_s_pl = pbp_py_p_s_pl.query(q_value).reset_index()"
   ]
  },
  {
   "cell_type": "code",
   "execution_count": 45,
   "id": "230c656f-02e0-475b-a49f-ed90c5f7ed24",
   "metadata": {},
   "outputs": [],
   "source": [
    "cols_save = ['passer_id', 'passer','season','pass_length_air_yards','ypa']"
   ]
  },
  {
   "cell_type": "code",
   "execution_count": 46,
   "id": "edeee27c-be3e-476b-9a68-074528f55feb",
   "metadata": {},
   "outputs": [],
   "source": [
    "air_yards_py = pbp_py_p_s_pl[cols_save].copy()\n",
    "air_yards_lag_py = air_yards_py.copy()\n",
    "air_yards_lag_py['season'] += 1 \n",
    "air_yards_lag_py.rename(columns={'ypa':'ypa_last'},inplace=True)"
   ]
  },
  {
   "cell_type": "code",
   "execution_count": 48,
   "id": "2ee215e3-d146-4c78-b794-ddf123033be3",
   "metadata": {},
   "outputs": [],
   "source": [
    "pbp_py_p_s_pl = air_yards_py.merge(air_yards_lag_py, how='inner',on=['passer_id','passer','season','pass_length_air_yards'])"
   ]
  },
  {
   "cell_type": "code",
   "execution_count": 52,
   "id": "1f19b7b4-f0f5-4bde-bac9-240cec27704b",
   "metadata": {},
   "outputs": [
    {
     "data": {
      "text/plain": [
       "'   pass_length_air_yards     passer  season        ypa   ypa_last\\n47                  long  A.Rodgers    2019  12.092593  12.011628\\n49                  long  A.Rodgers    2020  16.097826  12.092593\\n51                  long  A.Rodgers    2021  14.302632  16.097826\\n53                  long  A.Rodgers    2022  10.312500  14.302632\\n45                 short  A.Rodgers    2017   6.041475   6.693523\\n46                 short  A.Rodgers    2018   6.697446   6.041475\\n48                 short  A.Rodgers    2019   6.207224   6.697446\\n50                 short  A.Rodgers    2020   6.718447   6.207224\\n52                 short  A.Rodgers    2021   6.777083   6.718447\\n54                 short  A.Rodgers    2022   6.239130   6.777083\\n0                   long    T.Brady    2017  13.264706  15.768116\\n2                   long    T.Brady    2018  10.232877  13.264706\\n4                   long    T.Brady    2019  10.828571  10.232877\\n6                   long    T.Brady    2020  12.252101  10.828571\\n8                   long    T.Brady    2021  12.242424  12.252101\\n10                  long    T.Brady    2022  10.802469  12.242424\\n1                  short    T.Brady    2017   7.071429   7.163022\\n3                  short    T.Brady    2018   7.356452   7.071429\\n5                  short    T.Brady    2019   6.048276   7.356452\\n7                  short    T.Brady    2020   6.777600   6.048276\\n9                  short    T.Brady    2021   6.634697   6.777600\\n11                 short    T.Brady    2022   5.832168   6.634697'"
      ]
     },
     "execution_count": 52,
     "metadata": {},
     "output_type": "execute_result"
    }
   ],
   "source": [
    "pbp_py_p_s_pl[[\"pass_length_air_yards\",\"passer\",\"season\",\"ypa\",\"ypa_last\"]].query('passer ==\"T.Brady\" | passer == \"A.Rodgers\"').sort_values([\"passer\",\"pass_length_air_yards\",\"season\"]).to_string()"
   ]
  },
  {
   "cell_type": "code",
   "execution_count": 53,
   "id": "60a17725-cd97-45bd-8bbb-fcf35f5adfb7",
   "metadata": {},
   "outputs": [
    {
     "name": "stdout",
     "output_type": "stream",
     "text": [
      "<class 'pandas.core.frame.DataFrame'>\n",
      "RangeIndex: 317 entries, 0 to 316\n",
      "Data columns (total 6 columns):\n",
      " #   Column                 Non-Null Count  Dtype  \n",
      "---  ------                 --------------  -----  \n",
      " 0   passer_id              317 non-null    object \n",
      " 1   passer                 317 non-null    object \n",
      " 2   season                 317 non-null    int64  \n",
      " 3   pass_length_air_yards  317 non-null    object \n",
      " 4   ypa                    317 non-null    float64\n",
      " 5   ypa_last               317 non-null    float64\n",
      "dtypes: float64(2), int64(1), object(3)\n",
      "memory usage: 15.0+ KB\n"
     ]
    }
   ],
   "source": [
    "pbp_py_p_s_pl.info()"
   ]
  },
  {
   "cell_type": "code",
   "execution_count": null,
   "id": "8902c4e3-08ec-42f7-aa24-c8a3e14eebe7",
   "metadata": {},
   "outputs": [],
   "source": [
    "#1727"
   ]
  },
  {
   "cell_type": "code",
   "execution_count": null,
   "id": "12e74237-c415-49dd-8585-b3cbce160bba",
   "metadata": {},
   "outputs": [],
   "source": []
  }
 ],
 "metadata": {
  "kernelspec": {
   "display_name": "Python 3 (ipykernel)",
   "language": "python",
   "name": "python3"
  },
  "language_info": {
   "codemirror_mode": {
    "name": "ipython",
    "version": 3
   },
   "file_extension": ".py",
   "mimetype": "text/x-python",
   "name": "python",
   "nbconvert_exporter": "python",
   "pygments_lexer": "ipython3",
   "version": "3.10.12"
  }
 },
 "nbformat": 4,
 "nbformat_minor": 5
}
