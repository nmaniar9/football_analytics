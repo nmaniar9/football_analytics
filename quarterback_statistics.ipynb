{
 "cells": [
  {
   "cell_type": "markdown",
   "id": "04050197-96eb-4166-83ac-e8b33a060389",
   "metadata": {},
   "source": [
    "### Exploring Quarterback Statistics and Application to fantasy football"
   ]
  },
  {
   "cell_type": "code",
   "execution_count": 2,
   "id": "c86fb95e-07dc-4f26-8588-bced2d75408d",
   "metadata": {},
   "outputs": [],
   "source": [
    "import nfl_data_py as nfl\n",
    "import pandas as pd\n",
    "import numpy as np\n",
    "import seaborn as sns\n",
    "import matplotlib.pyplot as plt"
   ]
  },
  {
   "cell_type": "code",
   "execution_count": 3,
   "id": "ed55d198-393f-4a10-9898-b107e9658c37",
   "metadata": {},
   "outputs": [
    {
     "name": "stdout",
     "output_type": "stream",
     "text": [
      "2022 done.\n",
      "Downcasting floats.\n"
     ]
    }
   ],
   "source": [
    "#looking at the last season and current\n",
    "seasons = range(2022,2023)\n",
    "pbp = nfl.import_pbp_data(seasons)"
   ]
  },
  {
   "cell_type": "code",
   "execution_count": 4,
   "id": "eaeeda9a-cbdb-427b-8f0d-80a59fff0c69",
   "metadata": {},
   "outputs": [
    {
     "data": {
      "text/plain": [
       "array(['play_id', 'game_id', 'old_game_id', 'home_team', 'away_team',\n",
       "       'season_type', 'week', 'posteam', 'posteam_type', 'defteam',\n",
       "       'side_of_field', 'yardline_100', 'game_date',\n",
       "       'quarter_seconds_remaining', 'half_seconds_remaining',\n",
       "       'game_seconds_remaining', 'game_half', 'quarter_end', 'drive',\n",
       "       'sp', 'qtr', 'down', 'goal_to_go', 'time', 'yrdln', 'ydstogo',\n",
       "       'ydsnet', 'desc', 'play_type', 'yards_gained', 'shotgun',\n",
       "       'no_huddle', 'qb_dropback', 'qb_kneel', 'qb_spike', 'qb_scramble',\n",
       "       'pass_length', 'pass_location', 'air_yards', 'yards_after_catch',\n",
       "       'run_location', 'run_gap', 'field_goal_result', 'kick_distance',\n",
       "       'extra_point_result', 'two_point_conv_result',\n",
       "       'home_timeouts_remaining', 'away_timeouts_remaining', 'timeout',\n",
       "       'timeout_team', 'td_team', 'td_player_name', 'td_player_id',\n",
       "       'posteam_timeouts_remaining', 'defteam_timeouts_remaining',\n",
       "       'total_home_score', 'total_away_score', 'posteam_score',\n",
       "       'defteam_score', 'score_differential', 'posteam_score_post',\n",
       "       'defteam_score_post', 'score_differential_post', 'no_score_prob',\n",
       "       'opp_fg_prob', 'opp_safety_prob', 'opp_td_prob', 'fg_prob',\n",
       "       'safety_prob', 'td_prob', 'extra_point_prob',\n",
       "       'two_point_conversion_prob', 'ep', 'epa', 'total_home_epa',\n",
       "       'total_away_epa', 'total_home_rush_epa', 'total_away_rush_epa',\n",
       "       'total_home_pass_epa', 'total_away_pass_epa', 'air_epa', 'yac_epa',\n",
       "       'comp_air_epa', 'comp_yac_epa', 'total_home_comp_air_epa',\n",
       "       'total_away_comp_air_epa', 'total_home_comp_yac_epa',\n",
       "       'total_away_comp_yac_epa', 'total_home_raw_air_epa',\n",
       "       'total_away_raw_air_epa', 'total_home_raw_yac_epa',\n",
       "       'total_away_raw_yac_epa', 'wp', 'def_wp', 'home_wp', 'away_wp',\n",
       "       'wpa', 'vegas_wpa', 'vegas_home_wpa', 'home_wp_post',\n",
       "       'away_wp_post', 'vegas_wp', 'vegas_home_wp', 'total_home_rush_wpa',\n",
       "       'total_away_rush_wpa', 'total_home_pass_wpa',\n",
       "       'total_away_pass_wpa', 'air_wpa', 'yac_wpa', 'comp_air_wpa',\n",
       "       'comp_yac_wpa', 'total_home_comp_air_wpa',\n",
       "       'total_away_comp_air_wpa', 'total_home_comp_yac_wpa',\n",
       "       'total_away_comp_yac_wpa', 'total_home_raw_air_wpa',\n",
       "       'total_away_raw_air_wpa', 'total_home_raw_yac_wpa',\n",
       "       'total_away_raw_yac_wpa', 'punt_blocked', 'first_down_rush',\n",
       "       'first_down_pass', 'first_down_penalty', 'third_down_converted',\n",
       "       'third_down_failed', 'fourth_down_converted', 'fourth_down_failed',\n",
       "       'incomplete_pass', 'touchback', 'interception',\n",
       "       'punt_inside_twenty', 'punt_in_endzone', 'punt_out_of_bounds',\n",
       "       'punt_downed', 'punt_fair_catch', 'kickoff_inside_twenty',\n",
       "       'kickoff_in_endzone', 'kickoff_out_of_bounds', 'kickoff_downed',\n",
       "       'kickoff_fair_catch', 'fumble_forced', 'fumble_not_forced',\n",
       "       'fumble_out_of_bounds', 'solo_tackle', 'safety', 'penalty',\n",
       "       'tackled_for_loss', 'fumble_lost', 'own_kickoff_recovery',\n",
       "       'own_kickoff_recovery_td', 'qb_hit', 'rush_attempt',\n",
       "       'pass_attempt', 'sack', 'touchdown', 'pass_touchdown',\n",
       "       'rush_touchdown', 'return_touchdown', 'extra_point_attempt',\n",
       "       'two_point_attempt', 'field_goal_attempt', 'kickoff_attempt',\n",
       "       'punt_attempt', 'fumble', 'complete_pass', 'assist_tackle',\n",
       "       'lateral_reception', 'lateral_rush', 'lateral_return',\n",
       "       'lateral_recovery', 'passer_player_id', 'passer_player_name',\n",
       "       'passing_yards', 'receiver_player_id', 'receiver_player_name',\n",
       "       'receiving_yards', 'rusher_player_id', 'rusher_player_name',\n",
       "       'rushing_yards', 'lateral_receiver_player_id',\n",
       "       'lateral_receiver_player_name', 'lateral_receiving_yards',\n",
       "       'lateral_rusher_player_id', 'lateral_rusher_player_name',\n",
       "       'lateral_rushing_yards', 'lateral_sack_player_id',\n",
       "       'lateral_sack_player_name', 'interception_player_id',\n",
       "       'interception_player_name', 'lateral_interception_player_id',\n",
       "       'lateral_interception_player_name', 'punt_returner_player_id',\n",
       "       'punt_returner_player_name', 'lateral_punt_returner_player_id',\n",
       "       'lateral_punt_returner_player_name',\n",
       "       'kickoff_returner_player_name', 'kickoff_returner_player_id',\n",
       "       'lateral_kickoff_returner_player_id',\n",
       "       'lateral_kickoff_returner_player_name', 'punter_player_id',\n",
       "       'punter_player_name', 'kicker_player_name', 'kicker_player_id',\n",
       "       'own_kickoff_recovery_player_id',\n",
       "       'own_kickoff_recovery_player_name', 'blocked_player_id',\n",
       "       'blocked_player_name', 'tackle_for_loss_1_player_id',\n",
       "       'tackle_for_loss_1_player_name', 'tackle_for_loss_2_player_id',\n",
       "       'tackle_for_loss_2_player_name', 'qb_hit_1_player_id',\n",
       "       'qb_hit_1_player_name', 'qb_hit_2_player_id',\n",
       "       'qb_hit_2_player_name', 'forced_fumble_player_1_team',\n",
       "       'forced_fumble_player_1_player_id',\n",
       "       'forced_fumble_player_1_player_name',\n",
       "       'forced_fumble_player_2_team', 'forced_fumble_player_2_player_id',\n",
       "       'forced_fumble_player_2_player_name', 'solo_tackle_1_team',\n",
       "       'solo_tackle_2_team', 'solo_tackle_1_player_id',\n",
       "       'solo_tackle_2_player_id', 'solo_tackle_1_player_name',\n",
       "       'solo_tackle_2_player_name', 'assist_tackle_1_player_id',\n",
       "       'assist_tackle_1_player_name', 'assist_tackle_1_team',\n",
       "       'assist_tackle_2_player_id', 'assist_tackle_2_player_name',\n",
       "       'assist_tackle_2_team', 'assist_tackle_3_player_id',\n",
       "       'assist_tackle_3_player_name', 'assist_tackle_3_team',\n",
       "       'assist_tackle_4_player_id', 'assist_tackle_4_player_name',\n",
       "       'assist_tackle_4_team', 'tackle_with_assist',\n",
       "       'tackle_with_assist_1_player_id',\n",
       "       'tackle_with_assist_1_player_name', 'tackle_with_assist_1_team',\n",
       "       'tackle_with_assist_2_player_id',\n",
       "       'tackle_with_assist_2_player_name', 'tackle_with_assist_2_team',\n",
       "       'pass_defense_1_player_id', 'pass_defense_1_player_name',\n",
       "       'pass_defense_2_player_id', 'pass_defense_2_player_name',\n",
       "       'fumbled_1_team', 'fumbled_1_player_id', 'fumbled_1_player_name',\n",
       "       'fumbled_2_player_id', 'fumbled_2_player_name', 'fumbled_2_team',\n",
       "       'fumble_recovery_1_team', 'fumble_recovery_1_yards',\n",
       "       'fumble_recovery_1_player_id', 'fumble_recovery_1_player_name',\n",
       "       'fumble_recovery_2_team', 'fumble_recovery_2_yards',\n",
       "       'fumble_recovery_2_player_id', 'fumble_recovery_2_player_name',\n",
       "       'sack_player_id', 'sack_player_name', 'half_sack_1_player_id',\n",
       "       'half_sack_1_player_name', 'half_sack_2_player_id',\n",
       "       'half_sack_2_player_name', 'return_team', 'return_yards',\n",
       "       'penalty_team', 'penalty_player_id', 'penalty_player_name',\n",
       "       'penalty_yards', 'replay_or_challenge',\n",
       "       'replay_or_challenge_result', 'penalty_type',\n",
       "       'defensive_two_point_attempt', 'defensive_two_point_conv',\n",
       "       'defensive_extra_point_attempt', 'defensive_extra_point_conv',\n",
       "       'safety_player_name', 'safety_player_id', 'season', 'cp', 'cpoe',\n",
       "       'series', 'series_success', 'series_result', 'order_sequence',\n",
       "       'start_time', 'time_of_day', 'stadium', 'weather', 'nfl_api_id',\n",
       "       'play_clock', 'play_deleted', 'play_type_nfl',\n",
       "       'special_teams_play', 'st_play_type', 'end_clock_time',\n",
       "       'end_yard_line', 'fixed_drive', 'fixed_drive_result',\n",
       "       'drive_real_start_time', 'drive_play_count',\n",
       "       'drive_time_of_possession', 'drive_first_downs', 'drive_inside20',\n",
       "       'drive_ended_with_score', 'drive_quarter_start',\n",
       "       'drive_quarter_end', 'drive_yards_penalized',\n",
       "       'drive_start_transition', 'drive_end_transition',\n",
       "       'drive_game_clock_start', 'drive_game_clock_end',\n",
       "       'drive_start_yard_line', 'drive_end_yard_line',\n",
       "       'drive_play_id_started', 'drive_play_id_ended', 'away_score',\n",
       "       'home_score', 'location', 'result', 'total', 'spread_line',\n",
       "       'total_line', 'div_game', 'roof', 'surface', 'temp', 'wind',\n",
       "       'home_coach', 'away_coach', 'stadium_id', 'game_stadium',\n",
       "       'aborted_play', 'success', 'passer', 'passer_jersey_number',\n",
       "       'rusher', 'rusher_jersey_number', 'receiver',\n",
       "       'receiver_jersey_number', 'pass', 'rush', 'first_down', 'special',\n",
       "       'play', 'passer_id', 'rusher_id', 'receiver_id', 'name',\n",
       "       'jersey_number', 'id', 'fantasy_player_name', 'fantasy_player_id',\n",
       "       'fantasy', 'fantasy_id', 'out_of_bounds', 'home_opening_kickoff',\n",
       "       'qb_epa', 'xyac_epa', 'xyac_mean_yardage', 'xyac_median_yardage',\n",
       "       'xyac_success', 'xyac_fd', 'xpass', 'pass_oe', 'nflverse_game_id',\n",
       "       'possession_team', 'offense_formation', 'offense_personnel',\n",
       "       'defenders_in_box', 'defense_personnel', 'number_of_pass_rushers',\n",
       "       'players_on_play', 'offense_players', 'defense_players',\n",
       "       'n_offense', 'n_defense'], dtype=object)"
      ]
     },
     "execution_count": 4,
     "metadata": {},
     "output_type": "execute_result"
    }
   ],
   "source": [
    "pbp.columns.values"
   ]
  },
  {
   "cell_type": "code",
   "execution_count": 5,
   "id": "012c4cba-ac59-4ab5-9c6d-7093b8bea7dd",
   "metadata": {},
   "outputs": [
    {
     "data": {
      "text/plain": [
       "(50147, 384)"
      ]
     },
     "execution_count": 5,
     "metadata": {},
     "output_type": "execute_result"
    }
   ],
   "source": [
    "pbp.shape"
   ]
  },
  {
   "cell_type": "code",
   "execution_count": 6,
   "id": "3f6313a2-1fcf-4463-872f-f8f1cd3523a2",
   "metadata": {},
   "outputs": [],
   "source": [
    "cols = ['play_type','pass_length','passing_yards','air_yards','td_prob','epa','interception','pass_attempt','touchdown','pass_touchdown','complete_pass','passer_player_id','passer_player_name','qb_epa']"
   ]
  },
  {
   "cell_type": "code",
   "execution_count": 7,
   "id": "e6dc2043-8d22-4eb0-805a-8b478dbdb698",
   "metadata": {},
   "outputs": [],
   "source": [
    "pbp_qb = pbp.query(\"play_type == 'pass' & air_yards.notnull()\").reset_index()"
   ]
  },
  {
   "cell_type": "code",
   "execution_count": 8,
   "id": "5826a342-e713-4265-9bbf-2e64d47c05d7",
   "metadata": {},
   "outputs": [],
   "source": [
    "pbp_qb = pbp_qb[cols]"
   ]
  },
  {
   "cell_type": "code",
   "execution_count": 9,
   "id": "6746ee9d-920a-4427-a7ba-f34654fadc33",
   "metadata": {},
   "outputs": [],
   "source": [
    "pbp_qb['pass_length_air_yards'] = np.where(pbp_qb['air_yards']>= 20,\"long\",\"short\")"
   ]
  },
  {
   "cell_type": "code",
   "execution_count": 10,
   "id": "0bf2f693-4c94-4ce9-a951-0f0cc448126a",
   "metadata": {},
   "outputs": [
    {
     "data": {
      "text/html": [
       "<div>\n",
       "<style scoped>\n",
       "    .dataframe tbody tr th:only-of-type {\n",
       "        vertical-align: middle;\n",
       "    }\n",
       "\n",
       "    .dataframe tbody tr th {\n",
       "        vertical-align: top;\n",
       "    }\n",
       "\n",
       "    .dataframe thead th {\n",
       "        text-align: right;\n",
       "    }\n",
       "</style>\n",
       "<table border=\"1\" class=\"dataframe\">\n",
       "  <thead>\n",
       "    <tr style=\"text-align: right;\">\n",
       "      <th></th>\n",
       "      <th>play_type</th>\n",
       "      <th>pass_length</th>\n",
       "      <th>passing_yards</th>\n",
       "      <th>air_yards</th>\n",
       "      <th>td_prob</th>\n",
       "      <th>epa</th>\n",
       "      <th>interception</th>\n",
       "      <th>pass_attempt</th>\n",
       "      <th>touchdown</th>\n",
       "      <th>pass_touchdown</th>\n",
       "      <th>complete_pass</th>\n",
       "      <th>passer_player_id</th>\n",
       "      <th>passer_player_name</th>\n",
       "      <th>qb_epa</th>\n",
       "      <th>pass_length_air_yards</th>\n",
       "    </tr>\n",
       "  </thead>\n",
       "  <tbody>\n",
       "    <tr>\n",
       "      <th>0</th>\n",
       "      <td>pass</td>\n",
       "      <td>short</td>\n",
       "      <td>NaN</td>\n",
       "      <td>0.0</td>\n",
       "      <td>0.465806</td>\n",
       "      <td>-0.492192</td>\n",
       "      <td>0.0</td>\n",
       "      <td>1.0</td>\n",
       "      <td>0.0</td>\n",
       "      <td>0.0</td>\n",
       "      <td>0.0</td>\n",
       "      <td>00-0026158</td>\n",
       "      <td>J.Flacco</td>\n",
       "      <td>-0.492192</td>\n",
       "      <td>short</td>\n",
       "    </tr>\n",
       "    <tr>\n",
       "      <th>1</th>\n",
       "      <td>pass</td>\n",
       "      <td>short</td>\n",
       "      <td>NaN</td>\n",
       "      <td>0.0</td>\n",
       "      <td>0.418190</td>\n",
       "      <td>-2.402200</td>\n",
       "      <td>0.0</td>\n",
       "      <td>1.0</td>\n",
       "      <td>0.0</td>\n",
       "      <td>0.0</td>\n",
       "      <td>0.0</td>\n",
       "      <td>00-0026158</td>\n",
       "      <td>J.Flacco</td>\n",
       "      <td>-2.402200</td>\n",
       "      <td>short</td>\n",
       "    </tr>\n",
       "    <tr>\n",
       "      <th>2</th>\n",
       "      <td>pass</td>\n",
       "      <td>short</td>\n",
       "      <td>4.0</td>\n",
       "      <td>-4.0</td>\n",
       "      <td>0.363601</td>\n",
       "      <td>0.075127</td>\n",
       "      <td>0.0</td>\n",
       "      <td>1.0</td>\n",
       "      <td>0.0</td>\n",
       "      <td>0.0</td>\n",
       "      <td>1.0</td>\n",
       "      <td>00-0034796</td>\n",
       "      <td>L.Jackson</td>\n",
       "      <td>0.075127</td>\n",
       "      <td>short</td>\n",
       "    </tr>\n",
       "    <tr>\n",
       "      <th>3</th>\n",
       "      <td>pass</td>\n",
       "      <td>short</td>\n",
       "      <td>4.0</td>\n",
       "      <td>3.0</td>\n",
       "      <td>0.365037</td>\n",
       "      <td>-0.105120</td>\n",
       "      <td>0.0</td>\n",
       "      <td>1.0</td>\n",
       "      <td>0.0</td>\n",
       "      <td>0.0</td>\n",
       "      <td>1.0</td>\n",
       "      <td>00-0034796</td>\n",
       "      <td>L.Jackson</td>\n",
       "      <td>-0.105120</td>\n",
       "      <td>short</td>\n",
       "    </tr>\n",
       "    <tr>\n",
       "      <th>4</th>\n",
       "      <td>pass</td>\n",
       "      <td>short</td>\n",
       "      <td>8.0</td>\n",
       "      <td>2.0</td>\n",
       "      <td>0.376760</td>\n",
       "      <td>0.411132</td>\n",
       "      <td>0.0</td>\n",
       "      <td>1.0</td>\n",
       "      <td>0.0</td>\n",
       "      <td>0.0</td>\n",
       "      <td>1.0</td>\n",
       "      <td>00-0034796</td>\n",
       "      <td>L.Jackson</td>\n",
       "      <td>0.411132</td>\n",
       "      <td>short</td>\n",
       "    </tr>\n",
       "    <tr>\n",
       "      <th>...</th>\n",
       "      <td>...</td>\n",
       "      <td>...</td>\n",
       "      <td>...</td>\n",
       "      <td>...</td>\n",
       "      <td>...</td>\n",
       "      <td>...</td>\n",
       "      <td>...</td>\n",
       "      <td>...</td>\n",
       "      <td>...</td>\n",
       "      <td>...</td>\n",
       "      <td>...</td>\n",
       "      <td>...</td>\n",
       "      <td>...</td>\n",
       "      <td>...</td>\n",
       "      <td>...</td>\n",
       "    </tr>\n",
       "    <tr>\n",
       "      <th>18935</th>\n",
       "      <td>pass</td>\n",
       "      <td>deep</td>\n",
       "      <td>45.0</td>\n",
       "      <td>41.0</td>\n",
       "      <td>0.426854</td>\n",
       "      <td>3.239489</td>\n",
       "      <td>0.0</td>\n",
       "      <td>1.0</td>\n",
       "      <td>0.0</td>\n",
       "      <td>0.0</td>\n",
       "      <td>1.0</td>\n",
       "      <td>00-0036389</td>\n",
       "      <td>J.Hurts</td>\n",
       "      <td>3.239489</td>\n",
       "      <td>long</td>\n",
       "    </tr>\n",
       "    <tr>\n",
       "      <th>18936</th>\n",
       "      <td>pass</td>\n",
       "      <td>short</td>\n",
       "      <td>10.0</td>\n",
       "      <td>6.0</td>\n",
       "      <td>0.231651</td>\n",
       "      <td>1.280741</td>\n",
       "      <td>0.0</td>\n",
       "      <td>1.0</td>\n",
       "      <td>0.0</td>\n",
       "      <td>0.0</td>\n",
       "      <td>1.0</td>\n",
       "      <td>00-0033873</td>\n",
       "      <td>P.Mahomes</td>\n",
       "      <td>1.280741</td>\n",
       "      <td>short</td>\n",
       "    </tr>\n",
       "    <tr>\n",
       "      <th>18937</th>\n",
       "      <td>pass</td>\n",
       "      <td>short</td>\n",
       "      <td>7.0</td>\n",
       "      <td>4.0</td>\n",
       "      <td>0.260468</td>\n",
       "      <td>0.710100</td>\n",
       "      <td>0.0</td>\n",
       "      <td>1.0</td>\n",
       "      <td>0.0</td>\n",
       "      <td>0.0</td>\n",
       "      <td>1.0</td>\n",
       "      <td>00-0033873</td>\n",
       "      <td>P.Mahomes</td>\n",
       "      <td>0.710100</td>\n",
       "      <td>short</td>\n",
       "    </tr>\n",
       "    <tr>\n",
       "      <th>18938</th>\n",
       "      <td>pass</td>\n",
       "      <td>short</td>\n",
       "      <td>0.0</td>\n",
       "      <td>-5.0</td>\n",
       "      <td>0.477706</td>\n",
       "      <td>-0.903265</td>\n",
       "      <td>0.0</td>\n",
       "      <td>1.0</td>\n",
       "      <td>0.0</td>\n",
       "      <td>0.0</td>\n",
       "      <td>1.0</td>\n",
       "      <td>00-0033873</td>\n",
       "      <td>P.Mahomes</td>\n",
       "      <td>-0.903265</td>\n",
       "      <td>short</td>\n",
       "    </tr>\n",
       "    <tr>\n",
       "      <th>18939</th>\n",
       "      <td>pass</td>\n",
       "      <td>deep</td>\n",
       "      <td>NaN</td>\n",
       "      <td>45.0</td>\n",
       "      <td>0.010182</td>\n",
       "      <td>-0.070803</td>\n",
       "      <td>0.0</td>\n",
       "      <td>1.0</td>\n",
       "      <td>0.0</td>\n",
       "      <td>0.0</td>\n",
       "      <td>0.0</td>\n",
       "      <td>00-0036389</td>\n",
       "      <td>J.Hurts</td>\n",
       "      <td>-0.070803</td>\n",
       "      <td>long</td>\n",
       "    </tr>\n",
       "  </tbody>\n",
       "</table>\n",
       "<p>18940 rows × 15 columns</p>\n",
       "</div>"
      ],
      "text/plain": [
       "      play_type pass_length  passing_yards  air_yards   td_prob       epa  \\\n",
       "0          pass       short            NaN        0.0  0.465806 -0.492192   \n",
       "1          pass       short            NaN        0.0  0.418190 -2.402200   \n",
       "2          pass       short            4.0       -4.0  0.363601  0.075127   \n",
       "3          pass       short            4.0        3.0  0.365037 -0.105120   \n",
       "4          pass       short            8.0        2.0  0.376760  0.411132   \n",
       "...         ...         ...            ...        ...       ...       ...   \n",
       "18935      pass        deep           45.0       41.0  0.426854  3.239489   \n",
       "18936      pass       short           10.0        6.0  0.231651  1.280741   \n",
       "18937      pass       short            7.0        4.0  0.260468  0.710100   \n",
       "18938      pass       short            0.0       -5.0  0.477706 -0.903265   \n",
       "18939      pass        deep            NaN       45.0  0.010182 -0.070803   \n",
       "\n",
       "       interception  pass_attempt  touchdown  pass_touchdown  complete_pass  \\\n",
       "0               0.0           1.0        0.0             0.0            0.0   \n",
       "1               0.0           1.0        0.0             0.0            0.0   \n",
       "2               0.0           1.0        0.0             0.0            1.0   \n",
       "3               0.0           1.0        0.0             0.0            1.0   \n",
       "4               0.0           1.0        0.0             0.0            1.0   \n",
       "...             ...           ...        ...             ...            ...   \n",
       "18935           0.0           1.0        0.0             0.0            1.0   \n",
       "18936           0.0           1.0        0.0             0.0            1.0   \n",
       "18937           0.0           1.0        0.0             0.0            1.0   \n",
       "18938           0.0           1.0        0.0             0.0            1.0   \n",
       "18939           0.0           1.0        0.0             0.0            0.0   \n",
       "\n",
       "      passer_player_id passer_player_name    qb_epa pass_length_air_yards  \n",
       "0           00-0026158           J.Flacco -0.492192                 short  \n",
       "1           00-0026158           J.Flacco -2.402200                 short  \n",
       "2           00-0034796          L.Jackson  0.075127                 short  \n",
       "3           00-0034796          L.Jackson -0.105120                 short  \n",
       "4           00-0034796          L.Jackson  0.411132                 short  \n",
       "...                ...                ...       ...                   ...  \n",
       "18935       00-0036389            J.Hurts  3.239489                  long  \n",
       "18936       00-0033873          P.Mahomes  1.280741                 short  \n",
       "18937       00-0033873          P.Mahomes  0.710100                 short  \n",
       "18938       00-0033873          P.Mahomes -0.903265                 short  \n",
       "18939       00-0036389            J.Hurts -0.070803                  long  \n",
       "\n",
       "[18940 rows x 15 columns]"
      ]
     },
     "execution_count": 10,
     "metadata": {},
     "output_type": "execute_result"
    }
   ],
   "source": [
    "pbp_qb"
   ]
  },
  {
   "cell_type": "code",
   "execution_count": 11,
   "id": "258afd63-5d71-4f40-93db-876126abb72f",
   "metadata": {},
   "outputs": [],
   "source": [
    "agg_features = {'air_yards':'sum','pass_attempt':'sum','complete_pass':'sum','touchdown':'sum','interception':'sum'}\n",
    "pbp_qb_basics = pbp_qb.groupby(['passer_player_name','passer_player_id']).agg(agg_features).reset_index() "
   ]
  },
  {
   "cell_type": "code",
   "execution_count": 12,
   "id": "8e2bbb60-b183-4bda-b256-d29ec3d99ff7",
   "metadata": {},
   "outputs": [
    {
     "data": {
      "text/plain": [
       "(47, 8)"
      ]
     },
     "execution_count": 12,
     "metadata": {},
     "output_type": "execute_result"
    }
   ],
   "source": [
    "pbp_qb_basics = pbp_qb_basics.query('pass_attempt >= 100').sort_values(by=['air_yards'], ascending = False)\n",
    "pbp_qb_basics['completion_rate'] = pbp_qb_basics['complete_pass']/pbp_qb_basics['pass_attempt']\n",
    "pbp_qb_basics.shape"
   ]
  },
  {
   "cell_type": "code",
   "execution_count": 13,
   "id": "109d943b-9695-4efc-b7ae-1bf18ee60384",
   "metadata": {},
   "outputs": [],
   "source": [
    "pbp_qb_basics.rename(columns = {'air_yards':'air_yards',}, inplace = True)"
   ]
  },
  {
   "cell_type": "code",
   "execution_count": 14,
   "id": "e98274e0-7897-45f0-be6c-71d02ca250ae",
   "metadata": {},
   "outputs": [],
   "source": [
    "new_column_order = ['passer_player_name','air_yards','completion_rate','touchdown','interception']\n",
    "\n",
    "# Create a new DataFrame with the rearranged columns\n",
    "plot_df = pbp_qb_basics[new_column_order]"
   ]
  },
  {
   "cell_type": "code",
   "execution_count": 15,
   "id": "765b8163-502a-42b1-8224-7b84242dd23f",
   "metadata": {
    "scrolled": true
   },
   "outputs": [
    {
     "data": {
      "image/png": "[encoded data removed]",
      "text/plain": [
       "<Figure size 1000x1000 with 4 Axes>"
      ]
     },
     "metadata": {},
     "output_type": "display_data"
    }
   ],
   "source": [
    "#pbp_qb_basics_plot = pbp_qb_basics[pbp_qb_basics['passer_player_name','air_yards','completion_rate','touchdown','interception']]\n",
    "sns.set_theme(style=\"whitegrid\")\n",
    "\n",
    "# Make the PairGrid\n",
    "g = sns.PairGrid(plot_df,\n",
    "                 x_vars=plot_df.columns[1:5], y_vars=[\"passer_player_name\"],\n",
    "                 height=10, aspect=.25)\n",
    "\n",
    "# Draw a dot plot using the stripplot function\n",
    "g.map(sns.stripplot, size=10, orient=\"h\", jitter=False,\n",
    "      palette=\"flare_r\", linewidth=1, edgecolor=\"w\")\n",
    "\n",
    "# Use the same x axis limits on all columns and add better labels\n",
    "#g.set(xlim=(0, 25), xlabel=\"Crashes\", ylabel=\"\")\n",
    "\n",
    "# Use semantically meaningful titles for the columns\n",
    "titles = [\"Total Air Yards\", \"Completion Rate\", \"Touchdowns\",\n",
    "          \"Interceptions\"]\n",
    "\n",
    "for ax, title in zip(g.axes.flat, titles):\n",
    "\n",
    "    # Set a different title for each axes\n",
    "    ax.set(title=title)\n",
    "\n",
    "    # Make the grid horizontal instead of vertical\n",
    "    ax.xaxis.grid(False)\n",
    "    ax.yaxis.grid(True)\n",
    "\n",
    "sns.despine(left=True, bottom=True)"
   ]
  },
  {
   "cell_type": "code",
   "execution_count": 16,
   "id": "d44ebecb-e5f4-4b24-9fc2-70ebd4a861c0",
   "metadata": {},
   "outputs": [
    {
     "data": {
      "text/plain": [
       "<seaborn.axisgrid.JointGrid at 0x7fe962763d90>"
      ]
     },
     "execution_count": 16,
     "metadata": {},
     "output_type": "execute_result"
    },
    {
     "data": {
      "image/png": "[encoded data removed]",
      "text/plain": [
       "<Figure size 600x600 with 3 Axes>"
      ]
     },
     "metadata": {},
     "output_type": "display_data"
    }
   ],
   "source": [
    "#joint plot for the relation between touchdowns and interceptions\n",
    "import numpy as np\n",
    "import seaborn as sns\n",
    "sns.set_theme(style=\"ticks\")\n",
    "\n",
    "\n",
    "x = pbp_qb_basics['touchdown']\n",
    "y = pbp_qb_basics['interception']\n",
    "joint_kws=dict(gridsize=10)\n",
    "sns.jointplot(x=x, y=y, kind=\"hex\", color=\"#4CB391\",joint_kws= joint_kws)"
   ]
  },
  {
   "cell_type": "code",
   "execution_count": 17,
   "id": "80b4f971-7276-47c5-a946-1586f36734c7",
   "metadata": {},
   "outputs": [
    {
     "data": {
      "text/html": [
       "<div>\n",
       "<style scoped>\n",
       "    .dataframe tbody tr th:only-of-type {\n",
       "        vertical-align: middle;\n",
       "    }\n",
       "\n",
       "    .dataframe tbody tr th {\n",
       "        vertical-align: top;\n",
       "    }\n",
       "\n",
       "    .dataframe thead th {\n",
       "        text-align: right;\n",
       "    }\n",
       "</style>\n",
       "<table border=\"1\" class=\"dataframe\">\n",
       "  <thead>\n",
       "    <tr style=\"text-align: right;\">\n",
       "      <th></th>\n",
       "      <th>play_type</th>\n",
       "      <th>pass_length</th>\n",
       "      <th>passing_yards</th>\n",
       "      <th>air_yards</th>\n",
       "      <th>td_prob</th>\n",
       "      <th>epa</th>\n",
       "      <th>interception</th>\n",
       "      <th>pass_attempt</th>\n",
       "      <th>touchdown</th>\n",
       "      <th>pass_touchdown</th>\n",
       "      <th>complete_pass</th>\n",
       "      <th>passer_player_id</th>\n",
       "      <th>passer_player_name</th>\n",
       "      <th>qb_epa</th>\n",
       "      <th>pass_length_air_yards</th>\n",
       "    </tr>\n",
       "  </thead>\n",
       "  <tbody>\n",
       "    <tr>\n",
       "      <th>0</th>\n",
       "      <td>pass</td>\n",
       "      <td>short</td>\n",
       "      <td>NaN</td>\n",
       "      <td>0.0</td>\n",
       "      <td>0.465806</td>\n",
       "      <td>-0.492192</td>\n",
       "      <td>0.0</td>\n",
       "      <td>1.0</td>\n",
       "      <td>0.0</td>\n",
       "      <td>0.0</td>\n",
       "      <td>0.0</td>\n",
       "      <td>00-0026158</td>\n",
       "      <td>J.Flacco</td>\n",
       "      <td>-0.492192</td>\n",
       "      <td>short</td>\n",
       "    </tr>\n",
       "    <tr>\n",
       "      <th>1</th>\n",
       "      <td>pass</td>\n",
       "      <td>short</td>\n",
       "      <td>NaN</td>\n",
       "      <td>0.0</td>\n",
       "      <td>0.418190</td>\n",
       "      <td>-2.402200</td>\n",
       "      <td>0.0</td>\n",
       "      <td>1.0</td>\n",
       "      <td>0.0</td>\n",
       "      <td>0.0</td>\n",
       "      <td>0.0</td>\n",
       "      <td>00-0026158</td>\n",
       "      <td>J.Flacco</td>\n",
       "      <td>-2.402200</td>\n",
       "      <td>short</td>\n",
       "    </tr>\n",
       "    <tr>\n",
       "      <th>2</th>\n",
       "      <td>pass</td>\n",
       "      <td>short</td>\n",
       "      <td>4.0</td>\n",
       "      <td>-4.0</td>\n",
       "      <td>0.363601</td>\n",
       "      <td>0.075127</td>\n",
       "      <td>0.0</td>\n",
       "      <td>1.0</td>\n",
       "      <td>0.0</td>\n",
       "      <td>0.0</td>\n",
       "      <td>1.0</td>\n",
       "      <td>00-0034796</td>\n",
       "      <td>L.Jackson</td>\n",
       "      <td>0.075127</td>\n",
       "      <td>short</td>\n",
       "    </tr>\n",
       "    <tr>\n",
       "      <th>3</th>\n",
       "      <td>pass</td>\n",
       "      <td>short</td>\n",
       "      <td>4.0</td>\n",
       "      <td>3.0</td>\n",
       "      <td>0.365037</td>\n",
       "      <td>-0.105120</td>\n",
       "      <td>0.0</td>\n",
       "      <td>1.0</td>\n",
       "      <td>0.0</td>\n",
       "      <td>0.0</td>\n",
       "      <td>1.0</td>\n",
       "      <td>00-0034796</td>\n",
       "      <td>L.Jackson</td>\n",
       "      <td>-0.105120</td>\n",
       "      <td>short</td>\n",
       "    </tr>\n",
       "    <tr>\n",
       "      <th>4</th>\n",
       "      <td>pass</td>\n",
       "      <td>short</td>\n",
       "      <td>8.0</td>\n",
       "      <td>2.0</td>\n",
       "      <td>0.376760</td>\n",
       "      <td>0.411132</td>\n",
       "      <td>0.0</td>\n",
       "      <td>1.0</td>\n",
       "      <td>0.0</td>\n",
       "      <td>0.0</td>\n",
       "      <td>1.0</td>\n",
       "      <td>00-0034796</td>\n",
       "      <td>L.Jackson</td>\n",
       "      <td>0.411132</td>\n",
       "      <td>short</td>\n",
       "    </tr>\n",
       "    <tr>\n",
       "      <th>...</th>\n",
       "      <td>...</td>\n",
       "      <td>...</td>\n",
       "      <td>...</td>\n",
       "      <td>...</td>\n",
       "      <td>...</td>\n",
       "      <td>...</td>\n",
       "      <td>...</td>\n",
       "      <td>...</td>\n",
       "      <td>...</td>\n",
       "      <td>...</td>\n",
       "      <td>...</td>\n",
       "      <td>...</td>\n",
       "      <td>...</td>\n",
       "      <td>...</td>\n",
       "      <td>...</td>\n",
       "    </tr>\n",
       "    <tr>\n",
       "      <th>18935</th>\n",
       "      <td>pass</td>\n",
       "      <td>deep</td>\n",
       "      <td>45.0</td>\n",
       "      <td>41.0</td>\n",
       "      <td>0.426854</td>\n",
       "      <td>3.239489</td>\n",
       "      <td>0.0</td>\n",
       "      <td>1.0</td>\n",
       "      <td>0.0</td>\n",
       "      <td>0.0</td>\n",
       "      <td>1.0</td>\n",
       "      <td>00-0036389</td>\n",
       "      <td>J.Hurts</td>\n",
       "      <td>3.239489</td>\n",
       "      <td>long</td>\n",
       "    </tr>\n",
       "    <tr>\n",
       "      <th>18936</th>\n",
       "      <td>pass</td>\n",
       "      <td>short</td>\n",
       "      <td>10.0</td>\n",
       "      <td>6.0</td>\n",
       "      <td>0.231651</td>\n",
       "      <td>1.280741</td>\n",
       "      <td>0.0</td>\n",
       "      <td>1.0</td>\n",
       "      <td>0.0</td>\n",
       "      <td>0.0</td>\n",
       "      <td>1.0</td>\n",
       "      <td>00-0033873</td>\n",
       "      <td>P.Mahomes</td>\n",
       "      <td>1.280741</td>\n",
       "      <td>short</td>\n",
       "    </tr>\n",
       "    <tr>\n",
       "      <th>18937</th>\n",
       "      <td>pass</td>\n",
       "      <td>short</td>\n",
       "      <td>7.0</td>\n",
       "      <td>4.0</td>\n",
       "      <td>0.260468</td>\n",
       "      <td>0.710100</td>\n",
       "      <td>0.0</td>\n",
       "      <td>1.0</td>\n",
       "      <td>0.0</td>\n",
       "      <td>0.0</td>\n",
       "      <td>1.0</td>\n",
       "      <td>00-0033873</td>\n",
       "      <td>P.Mahomes</td>\n",
       "      <td>0.710100</td>\n",
       "      <td>short</td>\n",
       "    </tr>\n",
       "    <tr>\n",
       "      <th>18938</th>\n",
       "      <td>pass</td>\n",
       "      <td>short</td>\n",
       "      <td>0.0</td>\n",
       "      <td>-5.0</td>\n",
       "      <td>0.477706</td>\n",
       "      <td>-0.903265</td>\n",
       "      <td>0.0</td>\n",
       "      <td>1.0</td>\n",
       "      <td>0.0</td>\n",
       "      <td>0.0</td>\n",
       "      <td>1.0</td>\n",
       "      <td>00-0033873</td>\n",
       "      <td>P.Mahomes</td>\n",
       "      <td>-0.903265</td>\n",
       "      <td>short</td>\n",
       "    </tr>\n",
       "    <tr>\n",
       "      <th>18939</th>\n",
       "      <td>pass</td>\n",
       "      <td>deep</td>\n",
       "      <td>NaN</td>\n",
       "      <td>45.0</td>\n",
       "      <td>0.010182</td>\n",
       "      <td>-0.070803</td>\n",
       "      <td>0.0</td>\n",
       "      <td>1.0</td>\n",
       "      <td>0.0</td>\n",
       "      <td>0.0</td>\n",
       "      <td>0.0</td>\n",
       "      <td>00-0036389</td>\n",
       "      <td>J.Hurts</td>\n",
       "      <td>-0.070803</td>\n",
       "      <td>long</td>\n",
       "    </tr>\n",
       "  </tbody>\n",
       "</table>\n",
       "<p>18940 rows × 15 columns</p>\n",
       "</div>"
      ],
      "text/plain": [
       "      play_type pass_length  passing_yards  air_yards   td_prob       epa  \\\n",
       "0          pass       short            NaN        0.0  0.465806 -0.492192   \n",
       "1          pass       short            NaN        0.0  0.418190 -2.402200   \n",
       "2          pass       short            4.0       -4.0  0.363601  0.075127   \n",
       "3          pass       short            4.0        3.0  0.365037 -0.105120   \n",
       "4          pass       short            8.0        2.0  0.376760  0.411132   \n",
       "...         ...         ...            ...        ...       ...       ...   \n",
       "18935      pass        deep           45.0       41.0  0.426854  3.239489   \n",
       "18936      pass       short           10.0        6.0  0.231651  1.280741   \n",
       "18937      pass       short            7.0        4.0  0.260468  0.710100   \n",
       "18938      pass       short            0.0       -5.0  0.477706 -0.903265   \n",
       "18939      pass        deep            NaN       45.0  0.010182 -0.070803   \n",
       "\n",
       "       interception  pass_attempt  touchdown  pass_touchdown  complete_pass  \\\n",
       "0               0.0           1.0        0.0             0.0            0.0   \n",
       "1               0.0           1.0        0.0             0.0            0.0   \n",
       "2               0.0           1.0        0.0             0.0            1.0   \n",
       "3               0.0           1.0        0.0             0.0            1.0   \n",
       "4               0.0           1.0        0.0             0.0            1.0   \n",
       "...             ...           ...        ...             ...            ...   \n",
       "18935           0.0           1.0        0.0             0.0            1.0   \n",
       "18936           0.0           1.0        0.0             0.0            1.0   \n",
       "18937           0.0           1.0        0.0             0.0            1.0   \n",
       "18938           0.0           1.0        0.0             0.0            1.0   \n",
       "18939           0.0           1.0        0.0             0.0            0.0   \n",
       "\n",
       "      passer_player_id passer_player_name    qb_epa pass_length_air_yards  \n",
       "0           00-0026158           J.Flacco -0.492192                 short  \n",
       "1           00-0026158           J.Flacco -2.402200                 short  \n",
       "2           00-0034796          L.Jackson  0.075127                 short  \n",
       "3           00-0034796          L.Jackson -0.105120                 short  \n",
       "4           00-0034796          L.Jackson  0.411132                 short  \n",
       "...                ...                ...       ...                   ...  \n",
       "18935       00-0036389            J.Hurts  3.239489                  long  \n",
       "18936       00-0033873          P.Mahomes  1.280741                 short  \n",
       "18937       00-0033873          P.Mahomes  0.710100                 short  \n",
       "18938       00-0033873          P.Mahomes -0.903265                 short  \n",
       "18939       00-0036389            J.Hurts -0.070803                  long  \n",
       "\n",
       "[18940 rows x 15 columns]"
      ]
     },
     "execution_count": 17,
     "metadata": {},
     "output_type": "execute_result"
    }
   ],
   "source": [
    "#stable and unstable \n",
    "#ypa and epa\n",
    "pbp_qb"
   ]
  },
  {
   "cell_type": "code",
   "execution_count": 53,
   "id": "0fa27e8f-8e53-4d6b-9eef-590810db6b35",
   "metadata": {},
   "outputs": [
    {
     "data": {
      "text/html": [
       "<div>\n",
       "<style scoped>\n",
       "    .dataframe tbody tr th:only-of-type {\n",
       "        vertical-align: middle;\n",
       "    }\n",
       "\n",
       "    .dataframe tbody tr th {\n",
       "        vertical-align: top;\n",
       "    }\n",
       "\n",
       "    .dataframe thead th {\n",
       "        text-align: right;\n",
       "    }\n",
       "</style>\n",
       "<table border=\"1\" class=\"dataframe\">\n",
       "  <thead>\n",
       "    <tr style=\"text-align: right;\">\n",
       "      <th></th>\n",
       "      <th>passer_player_name</th>\n",
       "      <th>passing_yards</th>\n",
       "      <th>epa</th>\n",
       "      <th>pass_attempt</th>\n",
       "      <th>ypa</th>\n",
       "    </tr>\n",
       "  </thead>\n",
       "  <tbody>\n",
       "    <tr>\n",
       "      <th>47</th>\n",
       "      <td>J.Garoppolo</td>\n",
       "      <td>2189.0</td>\n",
       "      <td>0.355429</td>\n",
       "      <td>277.0</td>\n",
       "      <td>7.902527</td>\n",
       "    </tr>\n",
       "    <tr>\n",
       "      <th>12</th>\n",
       "      <td>B.Purdy</td>\n",
       "      <td>1575.0</td>\n",
       "      <td>0.324060</td>\n",
       "      <td>204.0</td>\n",
       "      <td>7.720588</td>\n",
       "    </tr>\n",
       "    <tr>\n",
       "      <th>98</th>\n",
       "      <td>T.Tagovailoa</td>\n",
       "      <td>2584.0</td>\n",
       "      <td>0.225993</td>\n",
       "      <td>342.0</td>\n",
       "      <td>7.555556</td>\n",
       "    </tr>\n",
       "    <tr>\n",
       "      <th>66</th>\n",
       "      <td>M.Mariota</td>\n",
       "      <td>1822.0</td>\n",
       "      <td>0.186222</td>\n",
       "      <td>243.0</td>\n",
       "      <td>7.497942</td>\n",
       "    </tr>\n",
       "    <tr>\n",
       "      <th>77</th>\n",
       "      <td>P.Mahomes</td>\n",
       "      <td>5055.0</td>\n",
       "      <td>0.309379</td>\n",
       "      <td>685.0</td>\n",
       "      <td>7.379562</td>\n",
       "    </tr>\n",
       "  </tbody>\n",
       "</table>\n",
       "</div>"
      ],
      "text/plain": [
       "   passer_player_name  passing_yards       epa  pass_attempt       ypa\n",
       "47        J.Garoppolo         2189.0  0.355429         277.0  7.902527\n",
       "12            B.Purdy         1575.0  0.324060         204.0  7.720588\n",
       "98       T.Tagovailoa         2584.0  0.225993         342.0  7.555556\n",
       "66          M.Mariota         1822.0  0.186222         243.0  7.497942\n",
       "77          P.Mahomes         5055.0  0.309379         685.0  7.379562"
      ]
     },
     "execution_count": 53,
     "metadata": {},
     "output_type": "execute_result"
    }
   ],
   "source": [
    "#short passes\n",
    "pbp_qb_short = pbp_qb[pbp_qb['pass_length_air_yards'] == 'short']\n",
    "agg_features = {'passing_yards':'sum','epa':'mean','pass_attempt':'sum'}\n",
    "pbp_ypa_epa = pbp_qb_short.groupby('passer_player_name').agg(agg_features).reset_index()\n",
    "pbp_ypa_epa = pbp_ypa_epa.query('pass_attempt >= 100').sort_values(by=['passing_yards'],ascending=False)\n",
    "pbp_ypa_epa['ypa'] = pbp_ypa_epa['passing_yards']/pbp_ypa_epa['pass_attempt']\n",
    "s = pbp_ypa_epa.sort_values(by=['ypa'],ascending=False)\n",
    "s.head(5)"
   ]
  },
  {
   "cell_type": "code",
   "execution_count": 35,
   "id": "78bd2c5c-00c6-4b33-af18-4dd087bc1311",
   "metadata": {},
   "outputs": [
    {
     "data": {
      "text/html": [
       "<div>\n",
       "<style scoped>\n",
       "    .dataframe tbody tr th:only-of-type {\n",
       "        vertical-align: middle;\n",
       "    }\n",
       "\n",
       "    .dataframe tbody tr th {\n",
       "        vertical-align: top;\n",
       "    }\n",
       "\n",
       "    .dataframe thead th {\n",
       "        text-align: right;\n",
       "    }\n",
       "</style>\n",
       "<table border=\"1\" class=\"dataframe\">\n",
       "  <thead>\n",
       "    <tr style=\"text-align: right;\">\n",
       "      <th></th>\n",
       "      <th>passer_player_name</th>\n",
       "      <th>passing_yards</th>\n",
       "      <th>epa</th>\n",
       "      <th>pass_attempt</th>\n",
       "      <th>ypa</th>\n",
       "    </tr>\n",
       "  </thead>\n",
       "  <tbody>\n",
       "    <tr>\n",
       "      <th>81</th>\n",
       "      <td>T.Tagovailoa</td>\n",
       "      <td>964.0</td>\n",
       "      <td>0.955092</td>\n",
       "      <td>57.0</td>\n",
       "      <td>16.912281</td>\n",
       "    </tr>\n",
       "    <tr>\n",
       "      <th>28</th>\n",
       "      <td>G.Smith</td>\n",
       "      <td>877.0</td>\n",
       "      <td>0.717077</td>\n",
       "      <td>60.0</td>\n",
       "      <td>14.616667</td>\n",
       "    </tr>\n",
       "    <tr>\n",
       "      <th>47</th>\n",
       "      <td>K.Cousins</td>\n",
       "      <td>953.0</td>\n",
       "      <td>0.514752</td>\n",
       "      <td>66.0</td>\n",
       "      <td>14.439394</td>\n",
       "    </tr>\n",
       "    <tr>\n",
       "      <th>62</th>\n",
       "      <td>P.Mahomes</td>\n",
       "      <td>898.0</td>\n",
       "      <td>0.638876</td>\n",
       "      <td>63.0</td>\n",
       "      <td>14.253968</td>\n",
       "    </tr>\n",
       "    <tr>\n",
       "      <th>39</th>\n",
       "      <td>J.Hurts</td>\n",
       "      <td>982.0</td>\n",
       "      <td>0.593733</td>\n",
       "      <td>69.0</td>\n",
       "      <td>14.231884</td>\n",
       "    </tr>\n",
       "  </tbody>\n",
       "</table>\n",
       "</div>"
      ],
      "text/plain": [
       "   passer_player_name  passing_yards       epa  pass_attempt        ypa\n",
       "81       T.Tagovailoa          964.0  0.955092          57.0  16.912281\n",
       "28            G.Smith          877.0  0.717077          60.0  14.616667\n",
       "47          K.Cousins          953.0  0.514752          66.0  14.439394\n",
       "62          P.Mahomes          898.0  0.638876          63.0  14.253968\n",
       "39            J.Hurts          982.0  0.593733          69.0  14.231884"
      ]
     },
     "execution_count": 35,
     "metadata": {},
     "output_type": "execute_result"
    }
   ],
   "source": [
    "#long\n",
    "pbp_qb_long = pbp_qb[pbp_qb['pass_length_air_yards'] == 'long']\n",
    "agg_features = {'passing_yards':'sum','epa':'mean','pass_attempt':'sum'}\n",
    "pbp_ypa_epa = pbp_qb_long.groupby('passer_player_name').agg(agg_features).reset_index()\n",
    "pbp_ypa_epa = pbp_ypa_epa.query('pass_attempt >= 50').sort_values(by=['passing_yards'],ascending=False)\n",
    "pbp_ypa_epa['ypa'] = pbp_ypa_epa['passing_yards']/pbp_ypa_epa['pass_attempt']\n",
    "l = pbp_ypa_epa.sort_values(by=['ypa'],ascending=False)\n",
    "l.head(5)"
   ]
  },
  {
   "cell_type": "code",
   "execution_count": 38,
   "id": "7243e113-6677-441f-86f5-844902b42fd4",
   "metadata": {},
   "outputs": [
    {
     "data": {
      "image/png": "[encoded data removed]",
      "text/plain": [
       "<Figure size 1200x500 with 2 Axes>"
      ]
     },
     "metadata": {},
     "output_type": "display_data"
    }
   ],
   "source": [
    "# Create a figure with two subplots (side by side)\n",
    "fig, axes = plt.subplots(1, 2, figsize=(12, 5))\n",
    "\n",
    "# Scatterplot for short passes\n",
    "axes[0].scatter(s['epa'], s['ypa'], c='blue', label='Short Passes')\n",
    "axes[0].set_xlabel('EPA (Expected Points Added)')\n",
    "axes[0].set_ylabel('YPA (Yards Per Attempt)')\n",
    "axes[0].set_title('Scatterplot for Short Passes')\n",
    "axes[0].legend()\n",
    "\n",
    "# Scatterplot for long passes\n",
    "axes[1].scatter(l['epa'], l['ypa'], c='red', label='Long Passes')\n",
    "axes[1].set_xlabel('EPA (Expected Points Added)')\n",
    "axes[1].set_ylabel('YPA (Yards Per Attempt)')\n",
    "axes[1].set_title('Scatterplot for Long Passes')\n",
    "axes[1].legend()\n",
    "\n",
    "# Adjust spacing between subplots\n",
    "plt.tight_layout()\n",
    "\n",
    "# Display the plots\n",
    "plt.show()"
   ]
  },
  {
   "cell_type": "code",
   "execution_count": 48,
   "id": "8dc82115-181a-4c86-82d8-17b5b268961d",
   "metadata": {},
   "outputs": [],
   "source": [
    "agg_features = {'passing_yards':'sum','epa':'mean','pass_attempt':'sum'}\n",
    "pbp_ypa_epa = pbp_qb.groupby('passer_player_name').agg(agg_features).reset_index()\n",
    "pbp_ypa_epa = pbp_ypa_epa.query('pass_attempt >= 100').sort_values(by=['passing_yards'],ascending=False)\n",
    "pbp_ypa_epa['ypa'] = pbp_ypa_epa['passing_yards']/pbp_ypa_epa['pass_attempt']\n",
    "all = pbp_ypa_epa.sort_values(by=['ypa'],ascending=False)"
   ]
  },
  {
   "cell_type": "code",
   "execution_count": 49,
   "id": "152747ff-f883-47e0-94b5-4fe7e82e5954",
   "metadata": {},
   "outputs": [
    {
     "data": {
      "text/plain": [
       "<seaborn.axisgrid.JointGrid at 0x7fe9554b8eb0>"
      ]
     },
     "execution_count": 49,
     "metadata": {},
     "output_type": "execute_result"
    },
    {
     "data": {
      "image/png": "[encoded data removed]",
      "text/plain": [
       "<Figure size 600x600 with 3 Axes>"
      ]
     },
     "metadata": {},
     "output_type": "display_data"
    }
   ],
   "source": [
    "#joint plot for the relation between touchdowns and interceptions\n",
    "import numpy as np\n",
    "import seaborn as sns\n",
    "sns.set_theme(style=\"ticks\")\n",
    "\n",
    "\n",
    "x = all['epa']\n",
    "y = all['ypa']\n",
    "joint_kws=dict(gridsize=15)\n",
    "sns.jointplot(x=x, y=y, kind=\"hex\", color=\"#4CB391\",joint_kws= joint_kws)"
   ]
  },
  {
   "cell_type": "code",
   "execution_count": 50,
   "id": "98a11ae0-3e19-4e06-9503-18aa715c65fc",
   "metadata": {},
   "outputs": [
    {
     "data": {
      "text/html": [
       "<div>\n",
       "<style scoped>\n",
       "    .dataframe tbody tr th:only-of-type {\n",
       "        vertical-align: middle;\n",
       "    }\n",
       "\n",
       "    .dataframe tbody tr th {\n",
       "        vertical-align: top;\n",
       "    }\n",
       "\n",
       "    .dataframe thead th {\n",
       "        text-align: right;\n",
       "    }\n",
       "</style>\n",
       "<table border=\"1\" class=\"dataframe\">\n",
       "  <thead>\n",
       "    <tr style=\"text-align: right;\">\n",
       "      <th></th>\n",
       "      <th>passer_player_name</th>\n",
       "      <th>passing_yards</th>\n",
       "      <th>epa</th>\n",
       "      <th>pass_attempt</th>\n",
       "      <th>ypa</th>\n",
       "    </tr>\n",
       "  </thead>\n",
       "  <tbody>\n",
       "    <tr>\n",
       "      <th>102</th>\n",
       "      <td>T.Tagovailoa</td>\n",
       "      <td>3548.0</td>\n",
       "      <td>0.330150</td>\n",
       "      <td>399.0</td>\n",
       "      <td>8.892231</td>\n",
       "    </tr>\n",
       "    <tr>\n",
       "      <th>87</th>\n",
       "      <td>S.Darnold</td>\n",
       "      <td>1143.0</td>\n",
       "      <td>0.258798</td>\n",
       "      <td>137.0</td>\n",
       "      <td>8.343066</td>\n",
       "    </tr>\n",
       "    <tr>\n",
       "      <th>12</th>\n",
       "      <td>B.Purdy</td>\n",
       "      <td>1943.0</td>\n",
       "      <td>0.370602</td>\n",
       "      <td>233.0</td>\n",
       "      <td>8.339056</td>\n",
       "    </tr>\n",
       "    <tr>\n",
       "      <th>80</th>\n",
       "      <td>P.Mahomes</td>\n",
       "      <td>5953.0</td>\n",
       "      <td>0.337131</td>\n",
       "      <td>748.0</td>\n",
       "      <td>7.958556</td>\n",
       "    </tr>\n",
       "    <tr>\n",
       "      <th>49</th>\n",
       "      <td>J.Garoppolo</td>\n",
       "      <td>2437.0</td>\n",
       "      <td>0.308329</td>\n",
       "      <td>307.0</td>\n",
       "      <td>7.938111</td>\n",
       "    </tr>\n",
       "    <tr>\n",
       "      <th>84</th>\n",
       "      <td>R.Tannehill</td>\n",
       "      <td>2536.0</td>\n",
       "      <td>0.220776</td>\n",
       "      <td>324.0</td>\n",
       "      <td>7.827160</td>\n",
       "    </tr>\n",
       "    <tr>\n",
       "      <th>52</th>\n",
       "      <td>J.Hurts</td>\n",
       "      <td>4280.0</td>\n",
       "      <td>0.223263</td>\n",
       "      <td>547.0</td>\n",
       "      <td>7.824497</td>\n",
       "    </tr>\n",
       "    <tr>\n",
       "      <th>2</th>\n",
       "      <td>A.Dalton</td>\n",
       "      <td>2871.0</td>\n",
       "      <td>0.144591</td>\n",
       "      <td>378.0</td>\n",
       "      <td>7.595238</td>\n",
       "    </tr>\n",
       "    <tr>\n",
       "      <th>58</th>\n",
       "      <td>J.Winston</td>\n",
       "      <td>858.0</td>\n",
       "      <td>-0.001615</td>\n",
       "      <td>113.0</td>\n",
       "      <td>7.592920</td>\n",
       "    </tr>\n",
       "    <tr>\n",
       "      <th>40</th>\n",
       "      <td>J.Allen</td>\n",
       "      <td>4900.0</td>\n",
       "      <td>0.228592</td>\n",
       "      <td>647.0</td>\n",
       "      <td>7.573416</td>\n",
       "    </tr>\n",
       "    <tr>\n",
       "      <th>50</th>\n",
       "      <td>J.Goff</td>\n",
       "      <td>4438.0</td>\n",
       "      <td>0.250094</td>\n",
       "      <td>586.0</td>\n",
       "      <td>7.573379</td>\n",
       "    </tr>\n",
       "    <tr>\n",
       "      <th>69</th>\n",
       "      <td>M.Mariota</td>\n",
       "      <td>2219.0</td>\n",
       "      <td>0.131632</td>\n",
       "      <td>296.0</td>\n",
       "      <td>7.496622</td>\n",
       "    </tr>\n",
       "    <tr>\n",
       "      <th>38</th>\n",
       "      <td>G.Smith</td>\n",
       "      <td>4535.0</td>\n",
       "      <td>0.159090</td>\n",
       "      <td>605.0</td>\n",
       "      <td>7.495868</td>\n",
       "    </tr>\n",
       "    <tr>\n",
       "      <th>85</th>\n",
       "      <td>R.Wilson</td>\n",
       "      <td>3524.0</td>\n",
       "      <td>0.081080</td>\n",
       "      <td>482.0</td>\n",
       "      <td>7.311203</td>\n",
       "    </tr>\n",
       "    <tr>\n",
       "      <th>42</th>\n",
       "      <td>J.Burrow</td>\n",
       "      <td>5196.0</td>\n",
       "      <td>0.256346</td>\n",
       "      <td>713.0</td>\n",
       "      <td>7.287518</td>\n",
       "    </tr>\n",
       "    <tr>\n",
       "      <th>33</th>\n",
       "      <td>D.Prescott</td>\n",
       "      <td>3371.0</td>\n",
       "      <td>0.191393</td>\n",
       "      <td>464.0</td>\n",
       "      <td>7.265086</td>\n",
       "    </tr>\n",
       "    <tr>\n",
       "      <th>95</th>\n",
       "      <td>T.Heinicke</td>\n",
       "      <td>1859.0</td>\n",
       "      <td>0.130951</td>\n",
       "      <td>257.0</td>\n",
       "      <td>7.233463</td>\n",
       "    </tr>\n",
       "    <tr>\n",
       "      <th>41</th>\n",
       "      <td>J.Brissett</td>\n",
       "      <td>2608.0</td>\n",
       "      <td>0.171268</td>\n",
       "      <td>366.0</td>\n",
       "      <td>7.125683</td>\n",
       "    </tr>\n",
       "    <tr>\n",
       "      <th>61</th>\n",
       "      <td>K.Cousins</td>\n",
       "      <td>4809.0</td>\n",
       "      <td>0.169405</td>\n",
       "      <td>678.0</td>\n",
       "      <td>7.092920</td>\n",
       "    </tr>\n",
       "    <tr>\n",
       "      <th>46</th>\n",
       "      <td>J.Fields</td>\n",
       "      <td>2242.0</td>\n",
       "      <td>0.015785</td>\n",
       "      <td>318.0</td>\n",
       "      <td>7.050314</td>\n",
       "    </tr>\n",
       "    <tr>\n",
       "      <th>28</th>\n",
       "      <td>D.Carr</td>\n",
       "      <td>3522.0</td>\n",
       "      <td>0.115763</td>\n",
       "      <td>502.0</td>\n",
       "      <td>7.015936</td>\n",
       "    </tr>\n",
       "    <tr>\n",
       "      <th>72</th>\n",
       "      <td>M.Trubisky</td>\n",
       "      <td>1252.0</td>\n",
       "      <td>0.089439</td>\n",
       "      <td>179.0</td>\n",
       "      <td>6.994413</td>\n",
       "    </tr>\n",
       "    <tr>\n",
       "      <th>105</th>\n",
       "      <td>Z.Wilson</td>\n",
       "      <td>1688.0</td>\n",
       "      <td>0.007587</td>\n",
       "      <td>242.0</td>\n",
       "      <td>6.975207</td>\n",
       "    </tr>\n",
       "    <tr>\n",
       "      <th>99</th>\n",
       "      <td>T.Lawrence</td>\n",
       "      <td>4618.0</td>\n",
       "      <td>0.200848</td>\n",
       "      <td>667.0</td>\n",
       "      <td>6.923538</td>\n",
       "    </tr>\n",
       "    <tr>\n",
       "      <th>66</th>\n",
       "      <td>L.Jackson</td>\n",
       "      <td>2242.0</td>\n",
       "      <td>0.120567</td>\n",
       "      <td>325.0</td>\n",
       "      <td>6.898462</td>\n",
       "    </tr>\n",
       "    <tr>\n",
       "      <th>81</th>\n",
       "      <td>P.Walker</td>\n",
       "      <td>731.0</td>\n",
       "      <td>-0.094599</td>\n",
       "      <td>106.0</td>\n",
       "      <td>6.896226</td>\n",
       "    </tr>\n",
       "    <tr>\n",
       "      <th>71</th>\n",
       "      <td>M.Stafford</td>\n",
       "      <td>2087.0</td>\n",
       "      <td>0.087546</td>\n",
       "      <td>303.0</td>\n",
       "      <td>6.887789</td>\n",
       "    </tr>\n",
       "    <tr>\n",
       "      <th>31</th>\n",
       "      <td>D.Jones</td>\n",
       "      <td>3641.0</td>\n",
       "      <td>0.142806</td>\n",
       "      <td>529.0</td>\n",
       "      <td>6.882798</td>\n",
       "    </tr>\n",
       "    <tr>\n",
       "      <th>4</th>\n",
       "      <td>A.Rodgers</td>\n",
       "      <td>3695.0</td>\n",
       "      <td>0.085716</td>\n",
       "      <td>540.0</td>\n",
       "      <td>6.842593</td>\n",
       "    </tr>\n",
       "    <tr>\n",
       "      <th>73</th>\n",
       "      <td>M.White</td>\n",
       "      <td>1192.0</td>\n",
       "      <td>0.023768</td>\n",
       "      <td>175.0</td>\n",
       "      <td>6.811429</td>\n",
       "    </tr>\n",
       "    <tr>\n",
       "      <th>68</th>\n",
       "      <td>M.Jones</td>\n",
       "      <td>2997.0</td>\n",
       "      <td>0.045772</td>\n",
       "      <td>440.0</td>\n",
       "      <td>6.811364</td>\n",
       "    </tr>\n",
       "    <tr>\n",
       "      <th>51</th>\n",
       "      <td>J.Herbert</td>\n",
       "      <td>5012.0</td>\n",
       "      <td>0.118620</td>\n",
       "      <td>740.0</td>\n",
       "      <td>6.772973</td>\n",
       "    </tr>\n",
       "    <tr>\n",
       "      <th>70</th>\n",
       "      <td>M.Ryan</td>\n",
       "      <td>3057.0</td>\n",
       "      <td>0.063137</td>\n",
       "      <td>460.0</td>\n",
       "      <td>6.645652</td>\n",
       "    </tr>\n",
       "    <tr>\n",
       "      <th>35</th>\n",
       "      <td>D.Watson</td>\n",
       "      <td>1102.0</td>\n",
       "      <td>-0.024000</td>\n",
       "      <td>168.0</td>\n",
       "      <td>6.559524</td>\n",
       "    </tr>\n",
       "    <tr>\n",
       "      <th>24</th>\n",
       "      <td>C.Rush</td>\n",
       "      <td>1051.0</td>\n",
       "      <td>-0.013422</td>\n",
       "      <td>161.0</td>\n",
       "      <td>6.527950</td>\n",
       "    </tr>\n",
       "    <tr>\n",
       "      <th>32</th>\n",
       "      <td>D.Mills</td>\n",
       "      <td>3118.0</td>\n",
       "      <td>-0.025286</td>\n",
       "      <td>478.0</td>\n",
       "      <td>6.523013</td>\n",
       "    </tr>\n",
       "    <tr>\n",
       "      <th>10</th>\n",
       "      <td>B.Mayfield</td>\n",
       "      <td>2163.0</td>\n",
       "      <td>0.015924</td>\n",
       "      <td>334.0</td>\n",
       "      <td>6.476048</td>\n",
       "    </tr>\n",
       "    <tr>\n",
       "      <th>97</th>\n",
       "      <td>T.Huntley</td>\n",
       "      <td>884.0</td>\n",
       "      <td>0.019977</td>\n",
       "      <td>139.0</td>\n",
       "      <td>6.359712</td>\n",
       "    </tr>\n",
       "    <tr>\n",
       "      <th>26</th>\n",
       "      <td>C.Wentz</td>\n",
       "      <td>1755.0</td>\n",
       "      <td>0.033715</td>\n",
       "      <td>276.0</td>\n",
       "      <td>6.358696</td>\n",
       "    </tr>\n",
       "    <tr>\n",
       "      <th>93</th>\n",
       "      <td>T.Brady</td>\n",
       "      <td>5045.0</td>\n",
       "      <td>0.107113</td>\n",
       "      <td>796.0</td>\n",
       "      <td>6.337940</td>\n",
       "    </tr>\n",
       "    <tr>\n",
       "      <th>63</th>\n",
       "      <td>K.Pickett</td>\n",
       "      <td>2404.0</td>\n",
       "      <td>0.084779</td>\n",
       "      <td>388.0</td>\n",
       "      <td>6.195876</td>\n",
       "    </tr>\n",
       "    <tr>\n",
       "      <th>34</th>\n",
       "      <td>D.Ridder</td>\n",
       "      <td>708.0</td>\n",
       "      <td>0.077175</td>\n",
       "      <td>115.0</td>\n",
       "      <td>6.156522</td>\n",
       "    </tr>\n",
       "    <tr>\n",
       "      <th>62</th>\n",
       "      <td>K.Murray</td>\n",
       "      <td>2368.0</td>\n",
       "      <td>0.061626</td>\n",
       "      <td>387.0</td>\n",
       "      <td>6.118863</td>\n",
       "    </tr>\n",
       "    <tr>\n",
       "      <th>23</th>\n",
       "      <td>C.McCoy</td>\n",
       "      <td>780.0</td>\n",
       "      <td>-0.134687</td>\n",
       "      <td>132.0</td>\n",
       "      <td>5.909091</td>\n",
       "    </tr>\n",
       "    <tr>\n",
       "      <th>88</th>\n",
       "      <td>S.Ehlinger</td>\n",
       "      <td>573.0</td>\n",
       "      <td>-0.157646</td>\n",
       "      <td>101.0</td>\n",
       "      <td>5.673267</td>\n",
       "    </tr>\n",
       "    <tr>\n",
       "      <th>47</th>\n",
       "      <td>J.Flacco</td>\n",
       "      <td>1051.0</td>\n",
       "      <td>-0.020402</td>\n",
       "      <td>191.0</td>\n",
       "      <td>5.502618</td>\n",
       "    </tr>\n",
       "    <tr>\n",
       "      <th>90</th>\n",
       "      <td>S.Thompson</td>\n",
       "      <td>754.0</td>\n",
       "      <td>-0.152289</td>\n",
       "      <td>150.0</td>\n",
       "      <td>5.026667</td>\n",
       "    </tr>\n",
       "  </tbody>\n",
       "</table>\n",
       "</div>"
      ],
      "text/plain": [
       "    passer_player_name  passing_yards       epa  pass_attempt       ypa\n",
       "102       T.Tagovailoa         3548.0  0.330150         399.0  8.892231\n",
       "87           S.Darnold         1143.0  0.258798         137.0  8.343066\n",
       "12             B.Purdy         1943.0  0.370602         233.0  8.339056\n",
       "80           P.Mahomes         5953.0  0.337131         748.0  7.958556\n",
       "49         J.Garoppolo         2437.0  0.308329         307.0  7.938111\n",
       "84         R.Tannehill         2536.0  0.220776         324.0  7.827160\n",
       "52             J.Hurts         4280.0  0.223263         547.0  7.824497\n",
       "2             A.Dalton         2871.0  0.144591         378.0  7.595238\n",
       "58           J.Winston          858.0 -0.001615         113.0  7.592920\n",
       "40             J.Allen         4900.0  0.228592         647.0  7.573416\n",
       "50              J.Goff         4438.0  0.250094         586.0  7.573379\n",
       "69           M.Mariota         2219.0  0.131632         296.0  7.496622\n",
       "38             G.Smith         4535.0  0.159090         605.0  7.495868\n",
       "85            R.Wilson         3524.0  0.081080         482.0  7.311203\n",
       "42            J.Burrow         5196.0  0.256346         713.0  7.287518\n",
       "33          D.Prescott         3371.0  0.191393         464.0  7.265086\n",
       "95          T.Heinicke         1859.0  0.130951         257.0  7.233463\n",
       "41          J.Brissett         2608.0  0.171268         366.0  7.125683\n",
       "61           K.Cousins         4809.0  0.169405         678.0  7.092920\n",
       "46            J.Fields         2242.0  0.015785         318.0  7.050314\n",
       "28              D.Carr         3522.0  0.115763         502.0  7.015936\n",
       "72          M.Trubisky         1252.0  0.089439         179.0  6.994413\n",
       "105           Z.Wilson         1688.0  0.007587         242.0  6.975207\n",
       "99          T.Lawrence         4618.0  0.200848         667.0  6.923538\n",
       "66           L.Jackson         2242.0  0.120567         325.0  6.898462\n",
       "81            P.Walker          731.0 -0.094599         106.0  6.896226\n",
       "71          M.Stafford         2087.0  0.087546         303.0  6.887789\n",
       "31             D.Jones         3641.0  0.142806         529.0  6.882798\n",
       "4            A.Rodgers         3695.0  0.085716         540.0  6.842593\n",
       "73             M.White         1192.0  0.023768         175.0  6.811429\n",
       "68             M.Jones         2997.0  0.045772         440.0  6.811364\n",
       "51           J.Herbert         5012.0  0.118620         740.0  6.772973\n",
       "70              M.Ryan         3057.0  0.063137         460.0  6.645652\n",
       "35            D.Watson         1102.0 -0.024000         168.0  6.559524\n",
       "24              C.Rush         1051.0 -0.013422         161.0  6.527950\n",
       "32             D.Mills         3118.0 -0.025286         478.0  6.523013\n",
       "10          B.Mayfield         2163.0  0.015924         334.0  6.476048\n",
       "97           T.Huntley          884.0  0.019977         139.0  6.359712\n",
       "26             C.Wentz         1755.0  0.033715         276.0  6.358696\n",
       "93             T.Brady         5045.0  0.107113         796.0  6.337940\n",
       "63           K.Pickett         2404.0  0.084779         388.0  6.195876\n",
       "34            D.Ridder          708.0  0.077175         115.0  6.156522\n",
       "62            K.Murray         2368.0  0.061626         387.0  6.118863\n",
       "23             C.McCoy          780.0 -0.134687         132.0  5.909091\n",
       "88          S.Ehlinger          573.0 -0.157646         101.0  5.673267\n",
       "47            J.Flacco         1051.0 -0.020402         191.0  5.502618\n",
       "90          S.Thompson          754.0 -0.152289         150.0  5.026667"
      ]
     },
     "execution_count": 50,
     "metadata": {},
     "output_type": "execute_result"
    }
   ],
   "source": [
    "all"
   ]
  },
  {
   "cell_type": "code",
   "execution_count": 54,
   "id": "704a6d2e-4141-4be2-b8d3-9363dd73fb9d",
   "metadata": {},
   "outputs": [
    {
     "data": {
      "application/vnd.plotly.v1+json": {
       "config": {
        "plotlyServerURL": "https://plot.ly"
       },
       "data": [
        {
         "hovertemplate": "<b>%{hovertext}</b><br><br>epa=%{x}<br>ypa=%{y}<br>passing_yards=%{marker.size}<extra></extra>",
         "hovertext": [
          "T.Tagovailoa",
          "S.Darnold",
          "B.Purdy",
          "P.Mahomes",
          "J.Garoppolo",
          "R.Tannehill",
          "J.Hurts",
          "A.Dalton",
          "J.Winston",
          "J.Allen",
          "J.Goff",
          "M.Mariota",
          "G.Smith",
          "R.Wilson",
          "J.Burrow",
          "D.Prescott",
          "T.Heinicke",
          "J.Brissett",
          "K.Cousins",
          "J.Fields",
          "D.Carr",
          "M.Trubisky",
          "Z.Wilson",
          "T.Lawrence",
          "L.Jackson",
          "P.Walker",
          "M.Stafford",
          "D.Jones",
          "A.Rodgers",
          "M.White",
          "M.Jones",
          "J.Herbert",
          "M.Ryan",
          "D.Watson",
          "C.Rush",
          "D.Mills",
          "B.Mayfield",
          "T.Huntley",
          "C.Wentz",
          "T.Brady",
          "K.Pickett",
          "D.Ridder",
          "K.Murray",
          "C.McCoy",
          "S.Ehlinger",
          "J.Flacco",
          "S.Thompson"
         ],
         "legendgroup": "",
         "marker": {
          "color": "#636efa",
          "size": [
           3548,
           1143,
           1943,
           5953,
           2437,
           2536,
           4280,
           2871,
           858,
           4900,
           4438,
           2219,
           4535,
           3524,
           5196,
           3371,
           1859,
           2608,
           4809,
           2242,
           3522,
           1252,
           1688,
           4618,
           2242,
           731,
           2087,
           3641,
           3695,
           1192,
           2997,
           5012,
           3057,
           1102,
           1051,
           3118,
           2163,
           884,
           1755,
           5045,
           2404,
           708,
           2368,
           780,
           573,
           1051,
           754
          ],
          "sizemode": "area",
          "sizeref": 1.6536111111111111,
          "symbol": "circle"
         },
         "mode": "markers",
         "name": "",
         "orientation": "v",
         "showlegend": false,
         "type": "scatter",
         "x": [
          0.33015004777522255,
          0.2587982440999553,
          0.37060238533081735,
          0.33713069080622904,
          0.3083288851239588,
          0.2207758425300895,
          0.22326295641021057,
          0.1445911057001145,
          -0.001615129489517581,
          0.22859177815582504,
          0.25009379166364354,
          0.13163220865740063,
          0.15908950542682812,
          0.0810801678509123,
          0.25634581344215224,
          0.19139294779396832,
          0.13095142853225253,
          0.1712681596514723,
          0.16940470910959074,
          0.015785332599291636,
          0.11576296469016721,
          0.08943858653223714,
          0.007587009435952525,
          0.2008478991063158,
          0.12056727445541093,
          -0.0945987881793869,
          0.08754566193192509,
          0.14280601100386991,
          0.08571594473819628,
          0.02376844667962619,
          0.04577192257751118,
          0.1186199263631794,
          0.06313692935054069,
          -0.024000442955487717,
          -0.0134220360228734,
          -0.02528641844425491,
          0.0159241008519301,
          0.01997662629771361,
          0.033714980166236724,
          0.10711323993980192,
          0.08477944936531298,
          0.07717494001186898,
          0.061626200648433785,
          -0.13468733561493343,
          -0.15764618813438286,
          -0.020401603271648364,
          -0.15228884806235632
         ],
         "xaxis": "x",
         "y": [
          8.892230576441102,
          8.343065693430656,
          8.339055793991417,
          7.958556149732621,
          7.938110749185668,
          7.827160493827161,
          7.824497257769653,
          7.595238095238095,
          7.592920353982301,
          7.5734157650695515,
          7.573378839590443,
          7.496621621621622,
          7.4958677685950414,
          7.3112033195020745,
          7.287517531556802,
          7.265086206896552,
          7.233463035019455,
          7.1256830601092895,
          7.092920353982301,
          7.050314465408805,
          7.01593625498008,
          6.994413407821229,
          6.975206611570248,
          6.923538230884557,
          6.898461538461539,
          6.89622641509434,
          6.887788778877888,
          6.882797731568998,
          6.842592592592593,
          6.811428571428571,
          6.8113636363636365,
          6.772972972972973,
          6.645652173913043,
          6.559523809523809,
          6.527950310559007,
          6.523012552301255,
          6.476047904191617,
          6.359712230215828,
          6.358695652173913,
          6.3379396984924625,
          6.195876288659794,
          6.156521739130435,
          6.118863049095607,
          5.909090909090909,
          5.673267326732673,
          5.50261780104712,
          5.026666666666666
         ],
         "yaxis": "y"
        }
       ],
       "layout": {
        "autosize": true,
        "legend": {
         "itemsizing": "constant",
         "tracegroupgap": 0
        },
        "margin": {
         "t": 60
        },
        "template": {
         "data": {
          "bar": [
           {
            "error_x": {
             "color": "#2a3f5f"
            },
            "error_y": {
             "color": "#2a3f5f"
            },
            "marker": {
             "line": {
              "color": "#E5ECF6",
              "width": 0.5
             },
             "pattern": {
              "fillmode": "overlay",
              "size": 10,
              "solidity": 0.2
             }
            },
            "type": "bar"
           }
          ],
          "barpolar": [
           {
            "marker": {
             "line": {
              "color": "#E5ECF6",
              "width": 0.5
             },
             "pattern": {
              "fillmode": "overlay",
              "size": 10,
              "solidity": 0.2
             }
            },
            "type": "barpolar"
           }
          ],
          "carpet": [
           {
            "aaxis": {
             "endlinecolor": "#2a3f5f",
             "gridcolor": "white",
             "linecolor": "white",
             "minorgridcolor": "white",
             "startlinecolor": "#2a3f5f"
            },
            "baxis": {
             "endlinecolor": "#2a3f5f",
             "gridcolor": "white",
             "linecolor": "white",
             "minorgridcolor": "white",
             "startlinecolor": "#2a3f5f"
            },
            "type": "carpet"
           }
          ],
          "choropleth": [
           {
            "colorbar": {
             "outlinewidth": 0,
             "ticks": ""
            },
            "type": "choropleth"
           }
          ],
          "contour": [
           {
            "colorbar": {
             "outlinewidth": 0,
             "ticks": ""
            },
            "colorscale": [
             [
              0,
              "#0d0887"
             ],
             [
              0.1111111111111111,
              "#46039f"
             ],
             [
              0.2222222222222222,
              "#7201a8"
             ],
             [
              0.3333333333333333,
              "#9c179e"
             ],
             [
              0.4444444444444444,
              "#bd3786"
             ],
             [
              0.5555555555555556,
              "#d8576b"
             ],
             [
              0.6666666666666666,
              "#ed7953"
             ],
             [
              0.7777777777777778,
              "#fb9f3a"
             ],
             [
              0.8888888888888888,
              "#fdca26"
             ],
             [
              1,
              "#f0f921"
             ]
            ],
            "type": "contour"
           }
          ],
          "contourcarpet": [
           {
            "colorbar": {
             "outlinewidth": 0,
             "ticks": ""
            },
            "type": "contourcarpet"
           }
          ],
          "heatmap": [
           {
            "colorbar": {
             "outlinewidth": 0,
             "ticks": ""
            },
            "colorscale": [
             [
              0,
              "#0d0887"
             ],
             [
              0.1111111111111111,
              "#46039f"
             ],
             [
              0.2222222222222222,
              "#7201a8"
             ],
             [
              0.3333333333333333,
              "#9c179e"
             ],
             [
              0.4444444444444444,
              "#bd3786"
             ],
             [
              0.5555555555555556,
              "#d8576b"
             ],
             [
              0.6666666666666666,
              "#ed7953"
             ],
             [
              0.7777777777777778,
              "#fb9f3a"
             ],
             [
              0.8888888888888888,
              "#fdca26"
             ],
             [
              1,
              "#f0f921"
             ]
            ],
            "type": "heatmap"
           }
          ],
          "heatmapgl": [
           {
            "colorbar": {
             "outlinewidth": 0,
             "ticks": ""
            },
            "colorscale": [
             [
              0,
              "#0d0887"
             ],
             [
              0.1111111111111111,
              "#46039f"
             ],
             [
              0.2222222222222222,
              "#7201a8"
             ],
             [
              0.3333333333333333,
              "#9c179e"
             ],
             [
              0.4444444444444444,
              "#bd3786"
             ],
             [
              0.5555555555555556,
              "#d8576b"
             ],
             [
              0.6666666666666666,
              "#ed7953"
             ],
             [
              0.7777777777777778,
              "#fb9f3a"
             ],
             [
              0.8888888888888888,
              "#fdca26"
             ],
             [
              1,
              "#f0f921"
             ]
            ],
            "type": "heatmapgl"
           }
          ],
          "histogram": [
           {
            "marker": {
             "pattern": {
              "fillmode": "overlay",
              "size": 10,
              "solidity": 0.2
             }
            },
            "type": "histogram"
           }
          ],
          "histogram2d": [
           {
            "colorbar": {
             "outlinewidth": 0,
             "ticks": ""
            },
            "colorscale": [
             [
              0,
              "#0d0887"
             ],
             [
              0.1111111111111111,
              "#46039f"
             ],
             [
              0.2222222222222222,
              "#7201a8"
             ],
             [
              0.3333333333333333,
              "#9c179e"
             ],
             [
              0.4444444444444444,
              "#bd3786"
             ],
             [
              0.5555555555555556,
              "#d8576b"
             ],
             [
              0.6666666666666666,
              "#ed7953"
             ],
             [
              0.7777777777777778,
              "#fb9f3a"
             ],
             [
              0.8888888888888888,
              "#fdca26"
             ],
             [
              1,
              "#f0f921"
             ]
            ],
            "type": "histogram2d"
           }
          ],
          "histogram2dcontour": [
           {
            "colorbar": {
             "outlinewidth": 0,
             "ticks": ""
            },
            "colorscale": [
             [
              0,
              "#0d0887"
             ],
             [
              0.1111111111111111,
              "#46039f"
             ],
             [
              0.2222222222222222,
              "#7201a8"
             ],
             [
              0.3333333333333333,
              "#9c179e"
             ],
             [
              0.4444444444444444,
              "#bd3786"
             ],
             [
              0.5555555555555556,
              "#d8576b"
             ],
             [
              0.6666666666666666,
              "#ed7953"
             ],
             [
              0.7777777777777778,
              "#fb9f3a"
             ],
             [
              0.8888888888888888,
              "#fdca26"
             ],
             [
              1,
              "#f0f921"
             ]
            ],
            "type": "histogram2dcontour"
           }
          ],
          "mesh3d": [
           {
            "colorbar": {
             "outlinewidth": 0,
             "ticks": ""
            },
            "type": "mesh3d"
           }
          ],
          "parcoords": [
           {
            "line": {
             "colorbar": {
              "outlinewidth": 0,
              "ticks": ""
             }
            },
            "type": "parcoords"
           }
          ],
          "pie": [
           {
            "automargin": true,
            "type": "pie"
           }
          ],
          "scatter": [
           {
            "fillpattern": {
             "fillmode": "overlay",
             "size": 10,
             "solidity": 0.2
            },
            "type": "scatter"
           }
          ],
          "scatter3d": [
           {
            "line": {
             "colorbar": {
              "outlinewidth": 0,
              "ticks": ""
             }
            },
            "marker": {
             "colorbar": {
              "outlinewidth": 0,
              "ticks": ""
             }
            },
            "type": "scatter3d"
           }
          ],
          "scattercarpet": [
           {
            "marker": {
             "colorbar": {
              "outlinewidth": 0,
              "ticks": ""
             }
            },
            "type": "scattercarpet"
           }
          ],
          "scattergeo": [
           {
            "marker": {
             "colorbar": {
              "outlinewidth": 0,
              "ticks": ""
             }
            },
            "type": "scattergeo"
           }
          ],
          "scattergl": [
           {
            "marker": {
             "colorbar": {
              "outlinewidth": 0,
              "ticks": ""
             }
            },
            "type": "scattergl"
           }
          ],
          "scattermapbox": [
           {
            "marker": {
             "colorbar": {
              "outlinewidth": 0,
              "ticks": ""
             }
            },
            "type": "scattermapbox"
           }
          ],
          "scatterpolar": [
           {
            "marker": {
             "colorbar": {
              "outlinewidth": 0,
              "ticks": ""
             }
            },
            "type": "scatterpolar"
           }
          ],
          "scatterpolargl": [
           {
            "marker": {
             "colorbar": {
              "outlinewidth": 0,
              "ticks": ""
             }
            },
            "type": "scatterpolargl"
           }
          ],
          "scatterternary": [
           {
            "marker": {
             "colorbar": {
              "outlinewidth": 0,
              "ticks": ""
             }
            },
            "type": "scatterternary"
           }
          ],
          "surface": [
           {
            "colorbar": {
             "outlinewidth": 0,
             "ticks": ""
            },
            "colorscale": [
             [
              0,
              "#0d0887"
             ],
             [
              0.1111111111111111,
              "#46039f"
             ],
             [
              0.2222222222222222,
              "#7201a8"
             ],
             [
              0.3333333333333333,
              "#9c179e"
             ],
             [
              0.4444444444444444,
              "#bd3786"
             ],
             [
              0.5555555555555556,
              "#d8576b"
             ],
             [
              0.6666666666666666,
              "#ed7953"
             ],
             [
              0.7777777777777778,
              "#fb9f3a"
             ],
             [
              0.8888888888888888,
              "#fdca26"
             ],
             [
              1,
              "#f0f921"
             ]
            ],
            "type": "surface"
           }
          ],
          "table": [
           {
            "cells": {
             "fill": {
              "color": "#EBF0F8"
             },
             "line": {
              "color": "white"
             }
            },
            "header": {
             "fill": {
              "color": "#C8D4E3"
             },
             "line": {
              "color": "white"
             }
            },
            "type": "table"
           }
          ]
         },
         "layout": {
          "annotationdefaults": {
           "arrowcolor": "#2a3f5f",
           "arrowhead": 0,
           "arrowwidth": 1
          },
          "autotypenumbers": "strict",
          "coloraxis": {
           "colorbar": {
            "outlinewidth": 0,
            "ticks": ""
           }
          },
          "colorscale": {
           "diverging": [
            [
             0,
             "#8e0152"
            ],
            [
             0.1,
             "#c51b7d"
            ],
            [
             0.2,
             "#de77ae"
            ],
            [
             0.3,
             "#f1b6da"
            ],
            [
             0.4,
             "#fde0ef"
            ],
            [
             0.5,
             "#f7f7f7"
            ],
            [
             0.6,
             "#e6f5d0"
            ],
            [
             0.7,
             "#b8e186"
            ],
            [
             0.8,
             "#7fbc41"
            ],
            [
             0.9,
             "#4d9221"
            ],
            [
             1,
             "#276419"
            ]
           ],
           "sequential": [
            [
             0,
             "#0d0887"
            ],
            [
             0.1111111111111111,
             "#46039f"
            ],
            [
             0.2222222222222222,
             "#7201a8"
            ],
            [
             0.3333333333333333,
             "#9c179e"
            ],
            [
             0.4444444444444444,
             "#bd3786"
            ],
            [
             0.5555555555555556,
             "#d8576b"
            ],
            [
             0.6666666666666666,
             "#ed7953"
            ],
            [
             0.7777777777777778,
             "#fb9f3a"
            ],
            [
             0.8888888888888888,
             "#fdca26"
            ],
            [
             1,
             "#f0f921"
            ]
           ],
           "sequentialminus": [
            [
             0,
             "#0d0887"
            ],
            [
             0.1111111111111111,
             "#46039f"
            ],
            [
             0.2222222222222222,
             "#7201a8"
            ],
            [
             0.3333333333333333,
             "#9c179e"
            ],
            [
             0.4444444444444444,
             "#bd3786"
            ],
            [
             0.5555555555555556,
             "#d8576b"
            ],
            [
             0.6666666666666666,
             "#ed7953"
            ],
            [
             0.7777777777777778,
             "#fb9f3a"
            ],
            [
             0.8888888888888888,
             "#fdca26"
            ],
            [
             1,
             "#f0f921"
            ]
           ]
          },
          "colorway": [
           "#636efa",
           "#EF553B",
           "#00cc96",
           "#ab63fa",
           "#FFA15A",
           "#19d3f3",
           "#FF6692",
           "#B6E880",
           "#FF97FF",
           "#FECB52"
          ],
          "font": {
           "color": "#2a3f5f"
          },
          "geo": {
           "bgcolor": "white",
           "lakecolor": "white",
           "landcolor": "#E5ECF6",
           "showlakes": true,
           "showland": true,
           "subunitcolor": "white"
          },
          "hoverlabel": {
           "align": "left"
          },
          "hovermode": "closest",
          "mapbox": {
           "style": "light"
          },
          "paper_bgcolor": "white",
          "plot_bgcolor": "#E5ECF6",
          "polar": {
           "angularaxis": {
            "gridcolor": "white",
            "linecolor": "white",
            "ticks": ""
           },
           "bgcolor": "#E5ECF6",
           "radialaxis": {
            "gridcolor": "white",
            "linecolor": "white",
            "ticks": ""
           }
          },
          "scene": {
           "xaxis": {
            "backgroundcolor": "#E5ECF6",
            "gridcolor": "white",
            "gridwidth": 2,
            "linecolor": "white",
            "showbackground": true,
            "ticks": "",
            "zerolinecolor": "white"
           },
           "yaxis": {
            "backgroundcolor": "#E5ECF6",
            "gridcolor": "white",
            "gridwidth": 2,
            "linecolor": "white",
            "showbackground": true,
            "ticks": "",
            "zerolinecolor": "white"
           },
           "zaxis": {
            "backgroundcolor": "#E5ECF6",
            "gridcolor": "white",
            "gridwidth": 2,
            "linecolor": "white",
            "showbackground": true,
            "ticks": "",
            "zerolinecolor": "white"
           }
          },
          "shapedefaults": {
           "line": {
            "color": "#2a3f5f"
           }
          },
          "ternary": {
           "aaxis": {
            "gridcolor": "white",
            "linecolor": "white",
            "ticks": ""
           },
           "baxis": {
            "gridcolor": "white",
            "linecolor": "white",
            "ticks": ""
           },
           "bgcolor": "#E5ECF6",
           "caxis": {
            "gridcolor": "white",
            "linecolor": "white",
            "ticks": ""
           }
          },
          "title": {
           "x": 0.05
          },
          "xaxis": {
           "automargin": true,
           "gridcolor": "white",
           "linecolor": "white",
           "ticks": "",
           "title": {
            "standoff": 15
           },
           "zerolinecolor": "white",
           "zerolinewidth": 2
          },
          "yaxis": {
           "automargin": true,
           "gridcolor": "white",
           "linecolor": "white",
           "ticks": "",
           "title": {
            "standoff": 15
           },
           "zerolinecolor": "white",
           "zerolinewidth": 2
          }
         }
        },
        "title": {
         "text": "Scatterplot of EPA vs. YPA for Passing Yards"
        },
        "xaxis": {
         "anchor": "y",
         "autorange": true,
         "domain": [
          0,
          1
         ],
         "range": [
          -0.19814867814411338,
          0.4192117639681525
         ],
         "title": {
          "text": "EPA (Expected Points Added)"
         },
         "type": "linear"
        },
        "yaxis": {
         "anchor": "x",
         "autorange": true,
         "domain": [
          0,
          1
         ],
         "range": [
          4.280796282180068,
          10.166130708943543
         ],
         "title": {
          "text": "YPA (Yards Per Attempt)"
         },
         "type": "linear"
        }
       }
      },
      "image/png": "[encoded data removed]",
      "text/html": [
       "<div>                            <div id=\"e2bdfda4-1ef6-4a58-8fa1-e2a586f44f02\" class=\"plotly-graph-div\" style=\"height:525px; width:100%;\"></div>            <script type=\"text/javascript\">                require([\"plotly\"], function(Plotly) {                    window.PLOTLYENV=window.PLOTLYENV || {};                                    if (document.getElementById(\"e2bdfda4-1ef6-4a58-8fa1-e2a586f44f02\")) {                    Plotly.newPlot(                        \"e2bdfda4-1ef6-4a58-8fa1-e2a586f44f02\",                        [{\"hovertemplate\":\"\\u003cb\\u003e%{hovertext}\\u003c\\u002fb\\u003e\\u003cbr\\u003e\\u003cbr\\u003eepa=%{x}\\u003cbr\\u003eypa=%{y}\\u003cbr\\u003epassing_yards=%{marker.size}\\u003cextra\\u003e\\u003c\\u002fextra\\u003e\",\"hovertext\":[\"T.Tagovailoa\",\"S.Darnold\",\"B.Purdy\",\"P.Mahomes\",\"J.Garoppolo\",\"R.Tannehill\",\"J.Hurts\",\"A.Dalton\",\"J.Winston\",\"J.Allen\",\"J.Goff\",\"M.Mariota\",\"G.Smith\",\"R.Wilson\",\"J.Burrow\",\"D.Prescott\",\"T.Heinicke\",\"J.Brissett\",\"K.Cousins\",\"J.Fields\",\"D.Carr\",\"M.Trubisky\",\"Z.Wilson\",\"T.Lawrence\",\"L.Jackson\",\"P.Walker\",\"M.Stafford\",\"D.Jones\",\"A.Rodgers\",\"M.White\",\"M.Jones\",\"J.Herbert\",\"M.Ryan\",\"D.Watson\",\"C.Rush\",\"D.Mills\",\"B.Mayfield\",\"T.Huntley\",\"C.Wentz\",\"T.Brady\",\"K.Pickett\",\"D.Ridder\",\"K.Murray\",\"C.McCoy\",\"S.Ehlinger\",\"J.Flacco\",\"S.Thompson\"],\"legendgroup\":\"\",\"marker\":{\"color\":\"#636efa\",\"size\":[3548.0,1143.0,1943.0,5953.0,2437.0,2536.0,4280.0,2871.0,858.0,4900.0,4438.0,2219.0,4535.0,3524.0,5196.0,3371.0,1859.0,2608.0,4809.0,2242.0,3522.0,1252.0,1688.0,4618.0,2242.0,731.0,2087.0,3641.0,3695.0,1192.0,2997.0,5012.0,3057.0,1102.0,1051.0,3118.0,2163.0,884.0,1755.0,5045.0,2404.0,708.0,2368.0,780.0,573.0,1051.0,754.0],\"sizemode\":\"area\",\"sizeref\":1.6536111111111111,\"symbol\":\"circle\"},\"mode\":\"markers\",\"name\":\"\",\"orientation\":\"v\",\"showlegend\":false,\"x\":[0.33015004777522255,0.2587982440999553,0.37060238533081735,0.33713069080622904,0.3083288851239588,0.2207758425300895,0.22326295641021057,0.1445911057001145,-0.001615129489517581,0.22859177815582504,0.25009379166364354,0.13163220865740063,0.15908950542682812,0.0810801678509123,0.25634581344215224,0.19139294779396832,0.13095142853225253,0.1712681596514723,0.16940470910959074,0.015785332599291636,0.11576296469016721,0.08943858653223714,0.007587009435952525,0.2008478991063158,0.12056727445541093,-0.0945987881793869,0.08754566193192509,0.14280601100386991,0.08571594473819628,0.02376844667962619,0.04577192257751118,0.1186199263631794,0.06313692935054069,-0.024000442955487717,-0.0134220360228734,-0.02528641844425491,0.0159241008519301,0.01997662629771361,0.033714980166236724,0.10711323993980192,0.08477944936531298,0.07717494001186898,0.061626200648433785,-0.13468733561493343,-0.15764618813438286,-0.020401603271648364,-0.15228884806235632],\"xaxis\":\"x\",\"y\":[8.892230576441102,8.343065693430656,8.339055793991417,7.958556149732621,7.938110749185668,7.827160493827161,7.824497257769653,7.595238095238095,7.592920353982301,7.5734157650695515,7.573378839590443,7.496621621621622,7.4958677685950414,7.3112033195020745,7.287517531556802,7.265086206896552,7.233463035019455,7.1256830601092895,7.092920353982301,7.050314465408805,7.01593625498008,6.994413407821229,6.975206611570248,6.923538230884557,6.898461538461539,6.89622641509434,6.887788778877888,6.882797731568998,6.842592592592593,6.811428571428571,6.8113636363636365,6.772972972972973,6.645652173913043,6.559523809523809,6.527950310559007,6.523012552301255,6.476047904191617,6.359712230215828,6.358695652173913,6.3379396984924625,6.195876288659794,6.156521739130435,6.118863049095607,5.909090909090909,5.673267326732673,5.50261780104712,5.026666666666666],\"yaxis\":\"y\",\"type\":\"scatter\"}],                        {\"template\":{\"data\":{\"histogram2dcontour\":[{\"type\":\"histogram2dcontour\",\"colorbar\":{\"outlinewidth\":0,\"ticks\":\"\"},\"colorscale\":[[0.0,\"#0d0887\"],[0.1111111111111111,\"#46039f\"],[0.2222222222222222,\"#7201a8\"],[0.3333333333333333,\"#9c179e\"],[0.4444444444444444,\"#bd3786\"],[0.5555555555555556,\"#d8576b\"],[0.6666666666666666,\"#ed7953\"],[0.7777777777777778,\"#fb9f3a\"],[0.8888888888888888,\"#fdca26\"],[1.0,\"#f0f921\"]]}],\"choropleth\":[{\"type\":\"choropleth\",\"colorbar\":{\"outlinewidth\":0,\"ticks\":\"\"}}],\"histogram2d\":[{\"type\":\"histogram2d\",\"colorbar\":{\"outlinewidth\":0,\"ticks\":\"\"},\"colorscale\":[[0.0,\"#0d0887\"],[0.1111111111111111,\"#46039f\"],[0.2222222222222222,\"#7201a8\"],[0.3333333333333333,\"#9c179e\"],[0.4444444444444444,\"#bd3786\"],[0.5555555555555556,\"#d8576b\"],[0.6666666666666666,\"#ed7953\"],[0.7777777777777778,\"#fb9f3a\"],[0.8888888888888888,\"#fdca26\"],[1.0,\"#f0f921\"]]}],\"heatmap\":[{\"type\":\"heatmap\",\"colorbar\":{\"outlinewidth\":0,\"ticks\":\"\"},\"colorscale\":[[0.0,\"#0d0887\"],[0.1111111111111111,\"#46039f\"],[0.2222222222222222,\"#7201a8\"],[0.3333333333333333,\"#9c179e\"],[0.4444444444444444,\"#bd3786\"],[0.5555555555555556,\"#d8576b\"],[0.6666666666666666,\"#ed7953\"],[0.7777777777777778,\"#fb9f3a\"],[0.8888888888888888,\"#fdca26\"],[1.0,\"#f0f921\"]]}],\"heatmapgl\":[{\"type\":\"heatmapgl\",\"colorbar\":{\"outlinewidth\":0,\"ticks\":\"\"},\"colorscale\":[[0.0,\"#0d0887\"],[0.1111111111111111,\"#46039f\"],[0.2222222222222222,\"#7201a8\"],[0.3333333333333333,\"#9c179e\"],[0.4444444444444444,\"#bd3786\"],[0.5555555555555556,\"#d8576b\"],[0.6666666666666666,\"#ed7953\"],[0.7777777777777778,\"#fb9f3a\"],[0.8888888888888888,\"#fdca26\"],[1.0,\"#f0f921\"]]}],\"contourcarpet\":[{\"type\":\"contourcarpet\",\"colorbar\":{\"outlinewidth\":0,\"ticks\":\"\"}}],\"contour\":[{\"type\":\"contour\",\"colorbar\":{\"outlinewidth\":0,\"ticks\":\"\"},\"colorscale\":[[0.0,\"#0d0887\"],[0.1111111111111111,\"#46039f\"],[0.2222222222222222,\"#7201a8\"],[0.3333333333333333,\"#9c179e\"],[0.4444444444444444,\"#bd3786\"],[0.5555555555555556,\"#d8576b\"],[0.6666666666666666,\"#ed7953\"],[0.7777777777777778,\"#fb9f3a\"],[0.8888888888888888,\"#fdca26\"],[1.0,\"#f0f921\"]]}],\"surface\":[{\"type\":\"surface\",\"colorbar\":{\"outlinewidth\":0,\"ticks\":\"\"},\"colorscale\":[[0.0,\"#0d0887\"],[0.1111111111111111,\"#46039f\"],[0.2222222222222222,\"#7201a8\"],[0.3333333333333333,\"#9c179e\"],[0.4444444444444444,\"#bd3786\"],[0.5555555555555556,\"#d8576b\"],[0.6666666666666666,\"#ed7953\"],[0.7777777777777778,\"#fb9f3a\"],[0.8888888888888888,\"#fdca26\"],[1.0,\"#f0f921\"]]}],\"mesh3d\":[{\"type\":\"mesh3d\",\"colorbar\":{\"outlinewidth\":0,\"ticks\":\"\"}}],\"scatter\":[{\"fillpattern\":{\"fillmode\":\"overlay\",\"size\":10,\"solidity\":0.2},\"type\":\"scatter\"}],\"parcoords\":[{\"type\":\"parcoords\",\"line\":{\"colorbar\":{\"outlinewidth\":0,\"ticks\":\"\"}}}],\"scatterpolargl\":[{\"type\":\"scatterpolargl\",\"marker\":{\"colorbar\":{\"outlinewidth\":0,\"ticks\":\"\"}}}],\"bar\":[{\"error_x\":{\"color\":\"#2a3f5f\"},\"error_y\":{\"color\":\"#2a3f5f\"},\"marker\":{\"line\":{\"color\":\"#E5ECF6\",\"width\":0.5},\"pattern\":{\"fillmode\":\"overlay\",\"size\":10,\"solidity\":0.2}},\"type\":\"bar\"}],\"scattergeo\":[{\"type\":\"scattergeo\",\"marker\":{\"colorbar\":{\"outlinewidth\":0,\"ticks\":\"\"}}}],\"scatterpolar\":[{\"type\":\"scatterpolar\",\"marker\":{\"colorbar\":{\"outlinewidth\":0,\"ticks\":\"\"}}}],\"histogram\":[{\"marker\":{\"pattern\":{\"fillmode\":\"overlay\",\"size\":10,\"solidity\":0.2}},\"type\":\"histogram\"}],\"scattergl\":[{\"type\":\"scattergl\",\"marker\":{\"colorbar\":{\"outlinewidth\":0,\"ticks\":\"\"}}}],\"scatter3d\":[{\"type\":\"scatter3d\",\"line\":{\"colorbar\":{\"outlinewidth\":0,\"ticks\":\"\"}},\"marker\":{\"colorbar\":{\"outlinewidth\":0,\"ticks\":\"\"}}}],\"scattermapbox\":[{\"type\":\"scattermapbox\",\"marker\":{\"colorbar\":{\"outlinewidth\":0,\"ticks\":\"\"}}}],\"scatterternary\":[{\"type\":\"scatterternary\",\"marker\":{\"colorbar\":{\"outlinewidth\":0,\"ticks\":\"\"}}}],\"scattercarpet\":[{\"type\":\"scattercarpet\",\"marker\":{\"colorbar\":{\"outlinewidth\":0,\"ticks\":\"\"}}}],\"carpet\":[{\"aaxis\":{\"endlinecolor\":\"#2a3f5f\",\"gridcolor\":\"white\",\"linecolor\":\"white\",\"minorgridcolor\":\"white\",\"startlinecolor\":\"#2a3f5f\"},\"baxis\":{\"endlinecolor\":\"#2a3f5f\",\"gridcolor\":\"white\",\"linecolor\":\"white\",\"minorgridcolor\":\"white\",\"startlinecolor\":\"#2a3f5f\"},\"type\":\"carpet\"}],\"table\":[{\"cells\":{\"fill\":{\"color\":\"#EBF0F8\"},\"line\":{\"color\":\"white\"}},\"header\":{\"fill\":{\"color\":\"#C8D4E3\"},\"line\":{\"color\":\"white\"}},\"type\":\"table\"}],\"barpolar\":[{\"marker\":{\"line\":{\"color\":\"#E5ECF6\",\"width\":0.5},\"pattern\":{\"fillmode\":\"overlay\",\"size\":10,\"solidity\":0.2}},\"type\":\"barpolar\"}],\"pie\":[{\"automargin\":true,\"type\":\"pie\"}]},\"layout\":{\"autotypenumbers\":\"strict\",\"colorway\":[\"#636efa\",\"#EF553B\",\"#00cc96\",\"#ab63fa\",\"#FFA15A\",\"#19d3f3\",\"#FF6692\",\"#B6E880\",\"#FF97FF\",\"#FECB52\"],\"font\":{\"color\":\"#2a3f5f\"},\"hovermode\":\"closest\",\"hoverlabel\":{\"align\":\"left\"},\"paper_bgcolor\":\"white\",\"plot_bgcolor\":\"#E5ECF6\",\"polar\":{\"bgcolor\":\"#E5ECF6\",\"angularaxis\":{\"gridcolor\":\"white\",\"linecolor\":\"white\",\"ticks\":\"\"},\"radialaxis\":{\"gridcolor\":\"white\",\"linecolor\":\"white\",\"ticks\":\"\"}},\"ternary\":{\"bgcolor\":\"#E5ECF6\",\"aaxis\":{\"gridcolor\":\"white\",\"linecolor\":\"white\",\"ticks\":\"\"},\"baxis\":{\"gridcolor\":\"white\",\"linecolor\":\"white\",\"ticks\":\"\"},\"caxis\":{\"gridcolor\":\"white\",\"linecolor\":\"white\",\"ticks\":\"\"}},\"coloraxis\":{\"colorbar\":{\"outlinewidth\":0,\"ticks\":\"\"}},\"colorscale\":{\"sequential\":[[0.0,\"#0d0887\"],[0.1111111111111111,\"#46039f\"],[0.2222222222222222,\"#7201a8\"],[0.3333333333333333,\"#9c179e\"],[0.4444444444444444,\"#bd3786\"],[0.5555555555555556,\"#d8576b\"],[0.6666666666666666,\"#ed7953\"],[0.7777777777777778,\"#fb9f3a\"],[0.8888888888888888,\"#fdca26\"],[1.0,\"#f0f921\"]],\"sequentialminus\":[[0.0,\"#0d0887\"],[0.1111111111111111,\"#46039f\"],[0.2222222222222222,\"#7201a8\"],[0.3333333333333333,\"#9c179e\"],[0.4444444444444444,\"#bd3786\"],[0.5555555555555556,\"#d8576b\"],[0.6666666666666666,\"#ed7953\"],[0.7777777777777778,\"#fb9f3a\"],[0.8888888888888888,\"#fdca26\"],[1.0,\"#f0f921\"]],\"diverging\":[[0,\"#8e0152\"],[0.1,\"#c51b7d\"],[0.2,\"#de77ae\"],[0.3,\"#f1b6da\"],[0.4,\"#fde0ef\"],[0.5,\"#f7f7f7\"],[0.6,\"#e6f5d0\"],[0.7,\"#b8e186\"],[0.8,\"#7fbc41\"],[0.9,\"#4d9221\"],[1,\"#276419\"]]},\"xaxis\":{\"gridcolor\":\"white\",\"linecolor\":\"white\",\"ticks\":\"\",\"title\":{\"standoff\":15},\"zerolinecolor\":\"white\",\"automargin\":true,\"zerolinewidth\":2},\"yaxis\":{\"gridcolor\":\"white\",\"linecolor\":\"white\",\"ticks\":\"\",\"title\":{\"standoff\":15},\"zerolinecolor\":\"white\",\"automargin\":true,\"zerolinewidth\":2},\"scene\":{\"xaxis\":{\"backgroundcolor\":\"#E5ECF6\",\"gridcolor\":\"white\",\"linecolor\":\"white\",\"showbackground\":true,\"ticks\":\"\",\"zerolinecolor\":\"white\",\"gridwidth\":2},\"yaxis\":{\"backgroundcolor\":\"#E5ECF6\",\"gridcolor\":\"white\",\"linecolor\":\"white\",\"showbackground\":true,\"ticks\":\"\",\"zerolinecolor\":\"white\",\"gridwidth\":2},\"zaxis\":{\"backgroundcolor\":\"#E5ECF6\",\"gridcolor\":\"white\",\"linecolor\":\"white\",\"showbackground\":true,\"ticks\":\"\",\"zerolinecolor\":\"white\",\"gridwidth\":2}},\"shapedefaults\":{\"line\":{\"color\":\"#2a3f5f\"}},\"annotationdefaults\":{\"arrowcolor\":\"#2a3f5f\",\"arrowhead\":0,\"arrowwidth\":1},\"geo\":{\"bgcolor\":\"white\",\"landcolor\":\"#E5ECF6\",\"subunitcolor\":\"white\",\"showland\":true,\"showlakes\":true,\"lakecolor\":\"white\"},\"title\":{\"x\":0.05},\"mapbox\":{\"style\":\"light\"}}},\"xaxis\":{\"anchor\":\"y\",\"domain\":[0.0,1.0],\"title\":{\"text\":\"EPA (Expected Points Added)\"}},\"yaxis\":{\"anchor\":\"x\",\"domain\":[0.0,1.0],\"title\":{\"text\":\"YPA (Yards Per Attempt)\"}},\"legend\":{\"tracegroupgap\":0,\"itemsizing\":\"constant\"},\"margin\":{\"t\":60},\"title\":{\"text\":\"Scatterplot of EPA vs. YPA for Passing Yards\"}},                        {\"responsive\": true}                    ).then(function(){\n",
       "                            \n",
       "var gd = document.getElementById('e2bdfda4-1ef6-4a58-8fa1-e2a586f44f02');\n",
       "var x = new MutationObserver(function (mutations, observer) {{\n",
       "        var display = window.getComputedStyle(gd).display;\n",
       "        if (!display || display === 'none') {{\n",
       "            console.log([gd, 'removed!']);\n",
       "            Plotly.purge(gd);\n",
       "            observer.disconnect();\n",
       "        }}\n",
       "}});\n",
       "\n",
       "// Listen for the removal of the full notebook cells\n",
       "var notebookContainer = gd.closest('#notebook-container');\n",
       "if (notebookContainer) {{\n",
       "    x.observe(notebookContainer, {childList: true});\n",
       "}}\n",
       "\n",
       "// Listen for the clearing of the current output cell\n",
       "var outputEl = gd.closest('.output');\n",
       "if (outputEl) {{\n",
       "    x.observe(outputEl, {childList: true});\n",
       "}}\n",
       "\n",
       "                        })                };                });            </script>        </div>"
      ]
     },
     "metadata": {},
     "output_type": "display_data"
    }
   ],
   "source": [
    "import plotly.express as px\n",
    "\n",
    "fig = px.scatter(all, x=\"epa\", y=\"ypa\",\n",
    "\t         size=\"passing_yards\", \n",
    "                 hover_name=\"passer_player_name\", size_max=60)\n",
    "fig.update_layout(\n",
    "    title=\"Scatterplot of EPA vs. YPA for Passing Yards\",\n",
    "    xaxis_title=\"EPA (Expected Points Added)\",\n",
    "    yaxis_title=\"YPA (Yards Per Attempt)\"\n",
    ")\n",
    "\n",
    "\n",
    "fig.show()"
   ]
  },
  {
   "cell_type": "code",
   "execution_count": null,
   "id": "7953384a-a8c7-4e81-87da-31a1c3227886",
   "metadata": {},
   "outputs": [],
   "source": []
  }
 ],
 "metadata": {
  "kernelspec": {
   "display_name": "Python 3 (ipykernel)",
   "language": "python",
   "name": "python3"
  },
  "language_info": {
   "codemirror_mode": {
    "name": "ipython",
    "version": 3
   },
   "file_extension": ".py",
   "mimetype": "text/x-python",
   "name": "python",
   "nbconvert_exporter": "python",
   "pygments_lexer": "ipython3",
   "version": "3.11.6"
  }
 },
 "nbformat": 4,
 "nbformat_minor": 5
}
